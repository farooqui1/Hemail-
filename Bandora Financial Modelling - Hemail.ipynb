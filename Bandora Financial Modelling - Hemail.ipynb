{
 "cells": [
  {
   "cell_type": "code",
   "execution_count": 3,
   "id": "52f06deb",
   "metadata": {},
   "outputs": [],
   "source": [
    "import numpy as pd\n",
    "import pandas as pd\n",
    "import matplotlib.pyplot as plt\n",
    "import seaborn as sns\n",
    "import warnings\n",
    "warnings.filterwarnings(\"ignore\")"
   ]
  },
  {
   "cell_type": "code",
   "execution_count": 4,
   "id": "f376af4a",
   "metadata": {
    "scrolled": true
   },
   "outputs": [],
   "source": [
    "df=pd.read_csv('Bondora_raw.csv')"
   ]
  },
  {
   "cell_type": "markdown",
   "id": "a14c21c6",
   "metadata": {},
   "source": [
    "# TASK 1- DATA PREPROCESSING"
   ]
  },
  {
   "cell_type": "code",
   "execution_count": 5,
   "id": "b34cc554",
   "metadata": {},
   "outputs": [
    {
     "data": {
      "text/plain": [
       "112"
      ]
     },
     "execution_count": 5,
     "metadata": {},
     "output_type": "execute_result"
    }
   ],
   "source": [
    "len(df.columns)"
   ]
  },
  {
   "cell_type": "code",
   "execution_count": 6,
   "id": "c56204db",
   "metadata": {},
   "outputs": [
    {
     "data": {
      "text/plain": [
       "Index(['ReportAsOfEOD', 'LoanId', 'LoanNumber', 'ListedOnUTC',\n",
       "       'BiddingStartedOn', 'BidsPortfolioManager', 'BidsApi', 'BidsManual',\n",
       "       'UserName', 'NewCreditCustomer',\n",
       "       ...\n",
       "       'PreviousEarlyRepaymentsCountBeforeLoan', 'GracePeriodStart',\n",
       "       'GracePeriodEnd', 'NextPaymentDate', 'NextPaymentNr',\n",
       "       'NrOfScheduledPayments', 'ReScheduledOn', 'PrincipalDebtServicingCost',\n",
       "       'InterestAndPenaltyDebtServicingCost', 'ActiveLateLastPaymentCategory'],\n",
       "      dtype='object', length=112)"
      ]
     },
     "execution_count": 6,
     "metadata": {},
     "output_type": "execute_result"
    }
   ],
   "source": [
    "df.columns"
   ]
  },
  {
   "cell_type": "code",
   "execution_count": 7,
   "id": "74d9cbda",
   "metadata": {},
   "outputs": [
    {
     "data": {
      "text/plain": [
       "RangeIndex(start=0, stop=134529, step=1)"
      ]
     },
     "execution_count": 7,
     "metadata": {},
     "output_type": "execute_result"
    }
   ],
   "source": [
    "df.index"
   ]
  },
  {
   "cell_type": "code",
   "execution_count": 8,
   "id": "aab29c11",
   "metadata": {
    "scrolled": true
   },
   "outputs": [
    {
     "data": {
      "text/html": [
       "<div>\n",
       "<style scoped>\n",
       "    .dataframe tbody tr th:only-of-type {\n",
       "        vertical-align: middle;\n",
       "    }\n",
       "\n",
       "    .dataframe tbody tr th {\n",
       "        vertical-align: top;\n",
       "    }\n",
       "\n",
       "    .dataframe thead th {\n",
       "        text-align: right;\n",
       "    }\n",
       "</style>\n",
       "<table border=\"1\" class=\"dataframe\">\n",
       "  <thead>\n",
       "    <tr style=\"text-align: right;\">\n",
       "      <th></th>\n",
       "      <th>ReportAsOfEOD</th>\n",
       "      <th>LoanId</th>\n",
       "      <th>LoanNumber</th>\n",
       "      <th>ListedOnUTC</th>\n",
       "      <th>BiddingStartedOn</th>\n",
       "      <th>BidsPortfolioManager</th>\n",
       "      <th>BidsApi</th>\n",
       "      <th>BidsManual</th>\n",
       "      <th>UserName</th>\n",
       "      <th>NewCreditCustomer</th>\n",
       "      <th>...</th>\n",
       "      <th>PreviousEarlyRepaymentsCountBeforeLoan</th>\n",
       "      <th>GracePeriodStart</th>\n",
       "      <th>GracePeriodEnd</th>\n",
       "      <th>NextPaymentDate</th>\n",
       "      <th>NextPaymentNr</th>\n",
       "      <th>NrOfScheduledPayments</th>\n",
       "      <th>ReScheduledOn</th>\n",
       "      <th>PrincipalDebtServicingCost</th>\n",
       "      <th>InterestAndPenaltyDebtServicingCost</th>\n",
       "      <th>ActiveLateLastPaymentCategory</th>\n",
       "    </tr>\n",
       "  </thead>\n",
       "  <tbody>\n",
       "    <tr>\n",
       "      <th>0</th>\n",
       "      <td>2020-01-27</td>\n",
       "      <td>F0660C80-83F3-4A97-8DA0-9C250112D6EC</td>\n",
       "      <td>659</td>\n",
       "      <td>2009-06-11 16:40:39</td>\n",
       "      <td>2009-06-11 16:40:39</td>\n",
       "      <td>0</td>\n",
       "      <td>0</td>\n",
       "      <td>115.0410</td>\n",
       "      <td>KARU</td>\n",
       "      <td>True</td>\n",
       "      <td>...</td>\n",
       "      <td>0</td>\n",
       "      <td>NaN</td>\n",
       "      <td>NaN</td>\n",
       "      <td>NaN</td>\n",
       "      <td>NaN</td>\n",
       "      <td>NaN</td>\n",
       "      <td>NaN</td>\n",
       "      <td>0.0</td>\n",
       "      <td>0.0</td>\n",
       "      <td>NaN</td>\n",
       "    </tr>\n",
       "    <tr>\n",
       "      <th>1</th>\n",
       "      <td>2020-01-27</td>\n",
       "      <td>978BB85B-1C69-4D51-8447-9C240104A3A2</td>\n",
       "      <td>654</td>\n",
       "      <td>2009-06-10 15:48:57</td>\n",
       "      <td>2009-06-10 15:48:57</td>\n",
       "      <td>0</td>\n",
       "      <td>0</td>\n",
       "      <td>140.6057</td>\n",
       "      <td>koort681</td>\n",
       "      <td>False</td>\n",
       "      <td>...</td>\n",
       "      <td>0</td>\n",
       "      <td>NaN</td>\n",
       "      <td>NaN</td>\n",
       "      <td>NaN</td>\n",
       "      <td>NaN</td>\n",
       "      <td>NaN</td>\n",
       "      <td>NaN</td>\n",
       "      <td>0.0</td>\n",
       "      <td>0.0</td>\n",
       "      <td>NaN</td>\n",
       "    </tr>\n",
       "    <tr>\n",
       "      <th>2</th>\n",
       "      <td>2020-01-27</td>\n",
       "      <td>EA44027E-7FA7-4BB2-846D-9C1F013C8A22</td>\n",
       "      <td>641</td>\n",
       "      <td>2009-06-05 19:12:29</td>\n",
       "      <td>2009-06-05 19:12:29</td>\n",
       "      <td>0</td>\n",
       "      <td>0</td>\n",
       "      <td>319.5580</td>\n",
       "      <td>0ie</td>\n",
       "      <td>True</td>\n",
       "      <td>...</td>\n",
       "      <td>0</td>\n",
       "      <td>NaN</td>\n",
       "      <td>NaN</td>\n",
       "      <td>NaN</td>\n",
       "      <td>NaN</td>\n",
       "      <td>NaN</td>\n",
       "      <td>NaN</td>\n",
       "      <td>0.0</td>\n",
       "      <td>0.0</td>\n",
       "      <td>180+</td>\n",
       "    </tr>\n",
       "    <tr>\n",
       "      <th>3</th>\n",
       "      <td>2020-01-27</td>\n",
       "      <td>CE67AD25-2951-4BEE-96BD-9C2700C61EF4</td>\n",
       "      <td>668</td>\n",
       "      <td>2009-06-13 12:01:20</td>\n",
       "      <td>2009-06-13 12:01:20</td>\n",
       "      <td>0</td>\n",
       "      <td>0</td>\n",
       "      <td>57.5205</td>\n",
       "      <td>Alyona</td>\n",
       "      <td>True</td>\n",
       "      <td>...</td>\n",
       "      <td>0</td>\n",
       "      <td>NaN</td>\n",
       "      <td>NaN</td>\n",
       "      <td>NaN</td>\n",
       "      <td>NaN</td>\n",
       "      <td>NaN</td>\n",
       "      <td>NaN</td>\n",
       "      <td>0.0</td>\n",
       "      <td>0.0</td>\n",
       "      <td>NaN</td>\n",
       "    </tr>\n",
       "    <tr>\n",
       "      <th>4</th>\n",
       "      <td>2020-01-27</td>\n",
       "      <td>9408BF8C-B159-4D6A-9D61-9C2400A986E3</td>\n",
       "      <td>652</td>\n",
       "      <td>2009-06-10 10:17:13</td>\n",
       "      <td>2009-06-10 10:17:13</td>\n",
       "      <td>0</td>\n",
       "      <td>0</td>\n",
       "      <td>319.5582</td>\n",
       "      <td>Kai</td>\n",
       "      <td>True</td>\n",
       "      <td>...</td>\n",
       "      <td>0</td>\n",
       "      <td>NaN</td>\n",
       "      <td>NaN</td>\n",
       "      <td>NaN</td>\n",
       "      <td>NaN</td>\n",
       "      <td>NaN</td>\n",
       "      <td>NaN</td>\n",
       "      <td>0.0</td>\n",
       "      <td>0.0</td>\n",
       "      <td>180+</td>\n",
       "    </tr>\n",
       "  </tbody>\n",
       "</table>\n",
       "<p>5 rows × 112 columns</p>\n",
       "</div>"
      ],
      "text/plain": [
       "  ReportAsOfEOD                                LoanId  LoanNumber  \\\n",
       "0    2020-01-27  F0660C80-83F3-4A97-8DA0-9C250112D6EC         659   \n",
       "1    2020-01-27  978BB85B-1C69-4D51-8447-9C240104A3A2         654   \n",
       "2    2020-01-27  EA44027E-7FA7-4BB2-846D-9C1F013C8A22         641   \n",
       "3    2020-01-27  CE67AD25-2951-4BEE-96BD-9C2700C61EF4         668   \n",
       "4    2020-01-27  9408BF8C-B159-4D6A-9D61-9C2400A986E3         652   \n",
       "\n",
       "           ListedOnUTC     BiddingStartedOn  BidsPortfolioManager  BidsApi  \\\n",
       "0  2009-06-11 16:40:39  2009-06-11 16:40:39                     0        0   \n",
       "1  2009-06-10 15:48:57  2009-06-10 15:48:57                     0        0   \n",
       "2  2009-06-05 19:12:29  2009-06-05 19:12:29                     0        0   \n",
       "3  2009-06-13 12:01:20  2009-06-13 12:01:20                     0        0   \n",
       "4  2009-06-10 10:17:13  2009-06-10 10:17:13                     0        0   \n",
       "\n",
       "   BidsManual  UserName  NewCreditCustomer  ...  \\\n",
       "0    115.0410      KARU               True  ...   \n",
       "1    140.6057  koort681              False  ...   \n",
       "2    319.5580       0ie               True  ...   \n",
       "3     57.5205    Alyona               True  ...   \n",
       "4    319.5582       Kai               True  ...   \n",
       "\n",
       "  PreviousEarlyRepaymentsCountBeforeLoan GracePeriodStart GracePeriodEnd  \\\n",
       "0                                      0              NaN            NaN   \n",
       "1                                      0              NaN            NaN   \n",
       "2                                      0              NaN            NaN   \n",
       "3                                      0              NaN            NaN   \n",
       "4                                      0              NaN            NaN   \n",
       "\n",
       "  NextPaymentDate NextPaymentNr NrOfScheduledPayments  ReScheduledOn  \\\n",
       "0             NaN           NaN                   NaN            NaN   \n",
       "1             NaN           NaN                   NaN            NaN   \n",
       "2             NaN           NaN                   NaN            NaN   \n",
       "3             NaN           NaN                   NaN            NaN   \n",
       "4             NaN           NaN                   NaN            NaN   \n",
       "\n",
       "   PrincipalDebtServicingCost  InterestAndPenaltyDebtServicingCost  \\\n",
       "0                         0.0                                  0.0   \n",
       "1                         0.0                                  0.0   \n",
       "2                         0.0                                  0.0   \n",
       "3                         0.0                                  0.0   \n",
       "4                         0.0                                  0.0   \n",
       "\n",
       "   ActiveLateLastPaymentCategory  \n",
       "0                            NaN  \n",
       "1                            NaN  \n",
       "2                           180+  \n",
       "3                            NaN  \n",
       "4                           180+  \n",
       "\n",
       "[5 rows x 112 columns]"
      ]
     },
     "execution_count": 8,
     "metadata": {},
     "output_type": "execute_result"
    }
   ],
   "source": [
    "df.head()"
   ]
  },
  {
   "cell_type": "code",
   "execution_count": 9,
   "id": "c0bcb2be",
   "metadata": {
    "scrolled": true
   },
   "outputs": [
    {
     "name": "stdout",
     "output_type": "stream",
     "text": [
      "<class 'pandas.core.frame.DataFrame'>\n",
      "RangeIndex: 134529 entries, 0 to 134528\n",
      "Columns: 112 entries, ReportAsOfEOD to ActiveLateLastPaymentCategory\n",
      "dtypes: bool(3), float64(56), int64(14), object(39)\n",
      "memory usage: 112.3+ MB\n"
     ]
    }
   ],
   "source": [
    "df.info()"
   ]
  },
  {
   "cell_type": "code",
   "execution_count": 10,
   "id": "1c131a1d",
   "metadata": {
    "scrolled": true
   },
   "outputs": [
    {
     "data": {
      "text/plain": [
       "ReportAsOfEOD                                  0\n",
       "LoanId                                         0\n",
       "LoanNumber                                     0\n",
       "ListedOnUTC                                    0\n",
       "BiddingStartedOn                               0\n",
       "BidsPortfolioManager                           0\n",
       "BidsApi                                        0\n",
       "BidsManual                                     0\n",
       "UserName                                       0\n",
       "NewCreditCustomer                              0\n",
       "LoanApplicationStartedDate                     0\n",
       "LoanDate                                       0\n",
       "ContractEndDate                            75546\n",
       "FirstPaymentDate                               0\n",
       "MaturityDate_Original                          0\n",
       "MaturityDate_Last                              0\n",
       "ApplicationSignedHour                          0\n",
       "ApplicationSignedWeekday                       0\n",
       "VerificationType                              45\n",
       "LanguageCode                                   0\n",
       "Age                                            0\n",
       "DateOfBirth                                    0\n",
       "Gender                                        45\n",
       "Country                                        0\n",
       "AppliedAmount                                  0\n",
       "Amount                                         0\n",
       "Interest                                       0\n",
       "LoanDuration                                   0\n",
       "MonthlyPayment                              6685\n",
       "County                                     36840\n",
       "City                                        9794\n",
       "UseOfLoan                                      0\n",
       "Education                                     45\n",
       "MaritalStatus                                 45\n",
       "NrOfDependants                             98929\n",
       "EmploymentStatus                             197\n",
       "EmploymentDurationCurrentEmployer            876\n",
       "EmploymentPosition                         98439\n",
       "WorkExperience                             98007\n",
       "OccupationArea                                86\n",
       "HomeOwnershipType                           1652\n",
       "IncomeFromPrincipalEmployer                    0\n",
       "IncomeFromPension                              0\n",
       "IncomeFromFamilyAllowance                      0\n",
       "IncomeFromSocialWelfare                        0\n",
       "IncomeFromLeavePay                             0\n",
       "IncomeFromChildSupport                         0\n",
       "IncomeOther                                    0\n",
       "IncomeTotal                                    0\n",
       "ExistingLiabilities                            0\n",
       "LiabilitiesTotal                               0\n",
       "RefinanceLiabilities                           0\n",
       "DebtToIncome                                  45\n",
       "FreeCash                                      45\n",
       "MonthlyPaymentDay                              0\n",
       "ActiveScheduleFirstPaymentReached              0\n",
       "PlannedPrincipalTillDate                   80070\n",
       "PlannedInterestTillDate                     3942\n",
       "LastPaymentOn                               9531\n",
       "CurrentDebtDaysPrimary                     86011\n",
       "DebtOccuredOn                              86011\n",
       "CurrentDebtDaysSecondary                   82279\n",
       "DebtOccuredOnForSecondary                  82279\n",
       "ExpectedLoss                                2636\n",
       "LossGivenDefault                            2636\n",
       "ExpectedReturn                              2636\n",
       "ProbabilityOfDefault                        2636\n",
       "DefaultDate                                91614\n",
       "PrincipalOverdueBySchedule                 14837\n",
       "PlannedPrincipalPostDefault                91614\n",
       "PlannedInterestPostDefault                 91614\n",
       "EAD1                                       91614\n",
       "EAD2                                       91614\n",
       "PrincipalRecovery                          91614\n",
       "InterestRecovery                           91614\n",
       "RecoveryStage                              57288\n",
       "StageActiveSince                           53575\n",
       "ModelVersion                                2636\n",
       "Rating                                      2730\n",
       "EL_V0                                     129960\n",
       "Rating_V0                                 129960\n",
       "EL_V1                                     121607\n",
       "Rating_V1                                 121607\n",
       "Rating_V2                                 109386\n",
       "Status                                         0\n",
       "Restructured                                   0\n",
       "ActiveLateCategory                         86011\n",
       "WorseLateCategory                          45456\n",
       "CreditScoreEsMicroL                        29574\n",
       "CreditScoreEsEquifaxRisk                  122310\n",
       "CreditScoreFiAsiakasTietoRiskGrade        102011\n",
       "CreditScoreEeMini                          62807\n",
       "PrincipalPaymentsMade                          0\n",
       "InterestAndPenaltyPaymentsMade                 0\n",
       "PrincipalWriteOffs                         75400\n",
       "InterestAndPenaltyWriteOffs                75400\n",
       "PrincipalBalance                               0\n",
       "InterestAndPenaltyBalance                      0\n",
       "NoOfPreviousLoansBeforeLoan                    0\n",
       "AmountOfPreviousLoansBeforeLoan                0\n",
       "PreviousRepaymentsBeforeLoan               43161\n",
       "PreviousEarlyRepaymentsBefoleLoan          76503\n",
       "PreviousEarlyRepaymentsCountBeforeLoan         0\n",
       "GracePeriodStart                          115741\n",
       "GracePeriodEnd                            115741\n",
       "NextPaymentDate                            68885\n",
       "NextPaymentNr                              36741\n",
       "NrOfScheduledPayments                      36741\n",
       "ReScheduledOn                              94207\n",
       "PrincipalDebtServicingCost                 75400\n",
       "InterestAndPenaltyDebtServicingCost        75400\n",
       "ActiveLateLastPaymentCategory              82279\n",
       "dtype: int64"
      ]
     },
     "execution_count": 10,
     "metadata": {},
     "output_type": "execute_result"
    }
   ],
   "source": [
    "# To show all the rows of pandas dataframe\n",
    "pd.set_option('display.max_rows', 500)\n",
    "df.isnull().sum()"
   ]
  },
  {
   "cell_type": "code",
   "execution_count": 11,
   "id": "a78b5585",
   "metadata": {},
   "outputs": [],
   "source": [
    "# removing the columns having more than 40% missing values\n",
    "def percent_null(df):\n",
    "    percent_null=df.isnull().sum()/len(df)*100\n",
    "    percent_null=percent_null[percent_null>40]\n",
    "    return percent_null"
   ]
  },
  {
   "cell_type": "code",
   "execution_count": 12,
   "id": "25cc4a26",
   "metadata": {
    "scrolled": true
   },
   "outputs": [],
   "source": [
    "null_remove=percent_null(df)"
   ]
  },
  {
   "cell_type": "code",
   "execution_count": 13,
   "id": "c7ab517c",
   "metadata": {},
   "outputs": [
    {
     "data": {
      "text/plain": [
       "36"
      ]
     },
     "execution_count": 13,
     "metadata": {},
     "output_type": "execute_result"
    }
   ],
   "source": [
    "len(null_remove)"
   ]
  },
  {
   "cell_type": "code",
   "execution_count": 14,
   "id": "201a3b51",
   "metadata": {},
   "outputs": [
    {
     "data": {
      "text/plain": [
       "Index(['ContractEndDate', 'NrOfDependants', 'EmploymentPosition',\n",
       "       'WorkExperience', 'PlannedPrincipalTillDate', 'CurrentDebtDaysPrimary',\n",
       "       'DebtOccuredOn', 'CurrentDebtDaysSecondary',\n",
       "       'DebtOccuredOnForSecondary', 'DefaultDate',\n",
       "       'PlannedPrincipalPostDefault', 'PlannedInterestPostDefault', 'EAD1',\n",
       "       'EAD2', 'PrincipalRecovery', 'InterestRecovery', 'RecoveryStage',\n",
       "       'EL_V0', 'Rating_V0', 'EL_V1', 'Rating_V1', 'Rating_V2',\n",
       "       'ActiveLateCategory', 'CreditScoreEsEquifaxRisk',\n",
       "       'CreditScoreFiAsiakasTietoRiskGrade', 'CreditScoreEeMini',\n",
       "       'PrincipalWriteOffs', 'InterestAndPenaltyWriteOffs',\n",
       "       'PreviousEarlyRepaymentsBefoleLoan', 'GracePeriodStart',\n",
       "       'GracePeriodEnd', 'NextPaymentDate', 'ReScheduledOn',\n",
       "       'PrincipalDebtServicingCost', 'InterestAndPenaltyDebtServicingCost',\n",
       "       'ActiveLateLastPaymentCategory'],\n",
       "      dtype='object')"
      ]
     },
     "execution_count": 14,
     "metadata": {},
     "output_type": "execute_result"
    }
   ],
   "source": [
    "null_remove.index"
   ]
  },
  {
   "cell_type": "code",
   "execution_count": 15,
   "id": "d6a5419c",
   "metadata": {},
   "outputs": [],
   "source": [
    "# print missing values columns \n",
    "miss_cols=['ContractEndDate', 'NrOfDependants', 'EmploymentPosition',\n",
    "       'WorkExperience', 'PlannedPrincipalTillDate', 'CurrentDebtDaysPrimary',\n",
    "       'DebtOccuredOn', 'CurrentDebtDaysSecondary',\n",
    "       'DebtOccuredOnForSecondary',\n",
    "       'PlannedPrincipalPostDefault', 'PlannedInterestPostDefault', 'EAD1',\n",
    "       'EAD2', 'PrincipalRecovery', 'InterestRecovery', 'RecoveryStage',\n",
    "       'EL_V0', 'Rating_V0', 'EL_V1', 'Rating_V1', 'Rating_V2',\n",
    "       'ActiveLateCategory', 'CreditScoreEsEquifaxRisk',\n",
    "       'CreditScoreFiAsiakasTietoRiskGrade', 'CreditScoreEeMini',\n",
    "       'PrincipalWriteOffs', 'InterestAndPenaltyWriteOffs',\n",
    "       'PreviousEarlyRepaymentsBefoleLoan', 'GracePeriodStart',\n",
    "       'GracePeriodEnd', 'NextPaymentDate', 'ReScheduledOn',\n",
    "       'PrincipalDebtServicingCost', 'InterestAndPenaltyDebtServicingCost',\n",
    "       'ActiveLateLastPaymentCategory']"
   ]
  },
  {
   "cell_type": "code",
   "execution_count": 16,
   "id": "14f66582",
   "metadata": {},
   "outputs": [
    {
     "data": {
      "text/plain": [
       "35"
      ]
     },
     "execution_count": 16,
     "metadata": {},
     "output_type": "execute_result"
    }
   ],
   "source": [
    "len(miss_cols)"
   ]
  },
  {
   "cell_type": "code",
   "execution_count": 17,
   "id": "f45b13e3",
   "metadata": {
    "scrolled": true
   },
   "outputs": [],
   "source": [
    "df=df.drop(miss_cols,axis=1)"
   ]
  },
  {
   "cell_type": "code",
   "execution_count": 18,
   "id": "af1a7a9d",
   "metadata": {},
   "outputs": [
    {
     "data": {
      "text/plain": [
       "(134529, 77)"
      ]
     },
     "execution_count": 18,
     "metadata": {},
     "output_type": "execute_result"
    }
   ],
   "source": [
    "df.shape"
   ]
  },
  {
   "cell_type": "code",
   "execution_count": 19,
   "id": "4a198eef",
   "metadata": {},
   "outputs": [],
   "source": [
    "cols_del = ['ReportAsOfEOD', 'LoanId', 'LoanNumber', 'ListedOnUTC', 'DateOfBirth',\n",
    "       'BiddingStartedOn','UserName','NextPaymentNr','NrOfScheduledPayments','IncomeFromPrincipalEmployer',\n",
    "        'IncomeFromPension','IncomeFromFamilyAllowance', 'IncomeFromSocialWelfare','IncomeFromLeavePay',\n",
    "        'IncomeFromChildSupport', 'IncomeOther','LoanApplicationStartedDate','ApplicationSignedHour',\n",
    "        'ApplicationSignedWeekday','ActiveScheduleFirstPaymentReached', 'PlannedInterestTillDate','ExpectedLoss', \n",
    "        'LossGivenDefault', 'ExpectedReturn','ProbabilityOfDefault', 'PrincipalOverdueBySchedule',\n",
    "       'StageActiveSince', 'ModelVersion','WorseLateCategory']"
   ]
  },
  {
   "cell_type": "code",
   "execution_count": 20,
   "id": "c06e59ec",
   "metadata": {},
   "outputs": [],
   "source": [
    "df=df.drop(cols_del,axis=1)"
   ]
  },
  {
   "cell_type": "code",
   "execution_count": 21,
   "id": "a55382c7",
   "metadata": {},
   "outputs": [
    {
     "data": {
      "text/plain": [
       "(134529, 48)"
      ]
     },
     "execution_count": 21,
     "metadata": {},
     "output_type": "execute_result"
    }
   ],
   "source": [
    "df.shape"
   ]
  },
  {
   "cell_type": "markdown",
   "id": "4d3921f7",
   "metadata": {},
   "source": [
    "### Creating Target Variable"
   ]
  },
  {
   "cell_type": "code",
   "execution_count": 22,
   "id": "f422a7e6",
   "metadata": {},
   "outputs": [
    {
     "data": {
      "text/plain": [
       "Current    57135\n",
       "Late       45772\n",
       "Repaid     31622\n",
       "Name: Status, dtype: int64"
      ]
     },
     "execution_count": 22,
     "metadata": {},
     "output_type": "execute_result"
    }
   ],
   "source": [
    "#counts of each status categories \n",
    "df['Status'].value_counts()"
   ]
  },
  {
   "cell_type": "code",
   "execution_count": 23,
   "id": "6fa1db84",
   "metadata": {},
   "outputs": [
    {
     "data": {
      "text/plain": [
       "491       Current\n",
       "523       Current\n",
       "536       Current\n",
       "541       Current\n",
       "544       Current\n",
       "           ...   \n",
       "134429    Current\n",
       "134455    Current\n",
       "134483    Current\n",
       "134486    Current\n",
       "134491    Current\n",
       "Name: Status, Length: 57135, dtype: object"
      ]
     },
     "execution_count": 23,
     "metadata": {},
     "output_type": "execute_result"
    }
   ],
   "source": [
    "df['Status'][df['Status']=='Current']"
   ]
  },
  {
   "cell_type": "code",
   "execution_count": 24,
   "id": "5671f6e6",
   "metadata": {},
   "outputs": [],
   "source": [
    "df['var']= df['DefaultDate'].isnull()"
   ]
  },
  {
   "cell_type": "code",
   "execution_count": 25,
   "id": "25e83aa4",
   "metadata": {},
   "outputs": [],
   "source": [
    "def target(var):\n",
    "    if var==True:\n",
    "        return 0\n",
    "    else:\n",
    "        return 1"
   ]
  },
  {
   "cell_type": "code",
   "execution_count": 26,
   "id": "44f5e926",
   "metadata": {},
   "outputs": [],
   "source": [
    "df['target_var']=df['var'].apply(target)"
   ]
  },
  {
   "cell_type": "code",
   "execution_count": 27,
   "id": "7730551d",
   "metadata": {},
   "outputs": [
    {
     "data": {
      "text/plain": [
       "0         0\n",
       "1         0\n",
       "2         1\n",
       "3         0\n",
       "4         1\n",
       "         ..\n",
       "134524    1\n",
       "134525    0\n",
       "134526    1\n",
       "134527    1\n",
       "134528    1\n",
       "Name: target_var, Length: 134529, dtype: int64"
      ]
     },
     "execution_count": 27,
     "metadata": {},
     "output_type": "execute_result"
    }
   ],
   "source": [
    "df['target_var']"
   ]
  },
  {
   "cell_type": "code",
   "execution_count": 28,
   "id": "5d8d1f93",
   "metadata": {},
   "outputs": [
    {
     "data": {
      "text/plain": [
       "0    91614\n",
       "1    42915\n",
       "Name: target_var, dtype: int64"
      ]
     },
     "execution_count": 28,
     "metadata": {},
     "output_type": "execute_result"
    }
   ],
   "source": [
    "df['target_var'].value_counts()"
   ]
  },
  {
   "cell_type": "code",
   "execution_count": 29,
   "id": "cb35694d",
   "metadata": {},
   "outputs": [],
   "source": [
    "drop_cols=['Status','DefaultDate','var']"
   ]
  },
  {
   "cell_type": "code",
   "execution_count": 30,
   "id": "f816f8ee",
   "metadata": {},
   "outputs": [],
   "source": [
    "df=df.drop(drop_cols,axis=1)"
   ]
  },
  {
   "cell_type": "code",
   "execution_count": 31,
   "id": "c9f15805",
   "metadata": {},
   "outputs": [
    {
     "data": {
      "text/plain": [
       "(134529, 47)"
      ]
     },
     "execution_count": 31,
     "metadata": {},
     "output_type": "execute_result"
    }
   ],
   "source": [
    "df.shape"
   ]
  },
  {
   "cell_type": "markdown",
   "id": "8a25cad3",
   "metadata": {},
   "source": [
    "## CHECKING FOR DATA TYPES"
   ]
  },
  {
   "cell_type": "code",
   "execution_count": 32,
   "id": "1705e1b8",
   "metadata": {
    "scrolled": true
   },
   "outputs": [
    {
     "name": "stdout",
     "output_type": "stream",
     "text": [
      "<class 'pandas.core.frame.DataFrame'>\n",
      "RangeIndex: 134529 entries, 0 to 134528\n",
      "Data columns (total 47 columns):\n",
      " #   Column                                  Non-Null Count   Dtype  \n",
      "---  ------                                  --------------   -----  \n",
      " 0   BidsPortfolioManager                    134529 non-null  int64  \n",
      " 1   BidsApi                                 134529 non-null  int64  \n",
      " 2   BidsManual                              134529 non-null  float64\n",
      " 3   NewCreditCustomer                       134529 non-null  bool   \n",
      " 4   LoanDate                                134529 non-null  object \n",
      " 5   FirstPaymentDate                        134529 non-null  object \n",
      " 6   MaturityDate_Original                   134529 non-null  object \n",
      " 7   MaturityDate_Last                       134529 non-null  object \n",
      " 8   VerificationType                        134484 non-null  float64\n",
      " 9   LanguageCode                            134529 non-null  int64  \n",
      " 10  Age                                     134529 non-null  int64  \n",
      " 11  Gender                                  134484 non-null  float64\n",
      " 12  Country                                 134529 non-null  object \n",
      " 13  AppliedAmount                           134529 non-null  float64\n",
      " 14  Amount                                  134529 non-null  float64\n",
      " 15  Interest                                134529 non-null  float64\n",
      " 16  LoanDuration                            134529 non-null  int64  \n",
      " 17  MonthlyPayment                          127844 non-null  float64\n",
      " 18  County                                  97689 non-null   object \n",
      " 19  City                                    124735 non-null  object \n",
      " 20  UseOfLoan                               134529 non-null  int64  \n",
      " 21  Education                               134484 non-null  float64\n",
      " 22  MaritalStatus                           134484 non-null  float64\n",
      " 23  EmploymentStatus                        134332 non-null  float64\n",
      " 24  EmploymentDurationCurrentEmployer       133653 non-null  object \n",
      " 25  OccupationArea                          134443 non-null  float64\n",
      " 26  HomeOwnershipType                       132877 non-null  float64\n",
      " 27  IncomeTotal                             134529 non-null  float64\n",
      " 28  ExistingLiabilities                     134529 non-null  int64  \n",
      " 29  LiabilitiesTotal                        134529 non-null  float64\n",
      " 30  RefinanceLiabilities                    134529 non-null  int64  \n",
      " 31  DebtToIncome                            134484 non-null  float64\n",
      " 32  FreeCash                                134484 non-null  float64\n",
      " 33  MonthlyPaymentDay                       134529 non-null  int64  \n",
      " 34  LastPaymentOn                           124998 non-null  object \n",
      " 35  Rating                                  131799 non-null  object \n",
      " 36  Restructured                            134529 non-null  bool   \n",
      " 37  CreditScoreEsMicroL                     104955 non-null  object \n",
      " 38  PrincipalPaymentsMade                   134529 non-null  float64\n",
      " 39  InterestAndPenaltyPaymentsMade          134529 non-null  float64\n",
      " 40  PrincipalBalance                        134529 non-null  float64\n",
      " 41  InterestAndPenaltyBalance               134529 non-null  float64\n",
      " 42  NoOfPreviousLoansBeforeLoan             134529 non-null  int64  \n",
      " 43  AmountOfPreviousLoansBeforeLoan         134529 non-null  float64\n",
      " 44  PreviousRepaymentsBeforeLoan            91368 non-null   float64\n",
      " 45  PreviousEarlyRepaymentsCountBeforeLoan  134529 non-null  int64  \n",
      " 46  target_var                              134529 non-null  int64  \n",
      "dtypes: bool(2), float64(22), int64(12), object(11)\n",
      "memory usage: 46.4+ MB\n"
     ]
    }
   ],
   "source": [
    "df.info()"
   ]
  },
  {
   "cell_type": "markdown",
   "id": "8a15729f",
   "metadata": {},
   "source": [
    "First we will delete all the features related to date as it is not a time series analysis so these features will not help in predicting target variable.\n",
    "\n",
    "As we can see in numeric column distribution there are many columns which are present as numeric but they are actually categorical as per data description such as Verification Type, Language Code, Gender, Use of Loan, Education, Marital \n",
    "\n",
    "Status,EmployementStatus, OccupationArea etc.\n",
    "So we will convert these features to categorical features"
   ]
  },
  {
   "cell_type": "markdown",
   "id": "bfdc7126",
   "metadata": {},
   "source": [
    "***Now we will check the distribution of different categorical variables***"
   ]
  },
  {
   "cell_type": "markdown",
   "id": "e65979c6",
   "metadata": {},
   "source": [
    "| Feature                                | Description                                                                                                                                                                                                                                                                                                                                                                                                                                                                                                         |\n",
    "|----------------------------------------|---------------------------------------------------------------------------------------------------------------------------------------------------------------------------------------------------------------------------------------------------------------------------------------------------------------------------------------------------------------------------------------------------------------------------------------------------------------------------------------------------------------------|\n",
    "| ActiveLateCategory                     | When a loan is in Principal Debt then it will be categorized by Principal Debt days                                                                                                                                                                                                                                                                                                                                                                                                                                 |\n",
    "| ActiveLateLastPaymentCategory          | Shows how many days has passed since last payment and categorised if it is overdue                                                                                                                                                                                                                                                                                                                                                                                                                                  |\n",
    "| ActiveScheduleFirstPaymentReached      | Whether the first payment date has been reached according to the active schedule                                                                                                                                                                                                                                                                                                                                                                                                                                    |\n",
    "| Age                                    | The age of the borrower when signing the loan application                                                                                                                                                                                                                                                                                                                                                                                                                                                           |\n",
    "| Amount                                 | Amount the borrower received on the Primary Market. This is the principal balance of your purchase from Secondary Market                                                                                                                                                                                                                                                                                                                                                                                            |\n",
    "| AmountOfPreviousLoansBeforeLoan        | Value of previous loans                                                                                                                                                                                                                                                                                                                                                                                                                                                                                             |\n",
    "| AppliedAmount                          | The amount borrower applied for originally                                                                                                                                                                                                                                                                                                                                                                                                                                                                          |\n",
    "| AuctionBidNumber                       | Unique bid number which is accompanied by Auction number                                                                                                                                                                                                                                                                                                                                                                                                                                                            |\n",
    "| AuctionId                              | A unique number given to all auctions                                                                                                                                                                                                                                                                                                                                                                                                                                                                               |\n",
    "| AuctionName                            | Name of the Auction, in newer loans it is defined by the purpose of the loan                                                                                                                                                                                                                                                                                                                                                                                                                                        |\n",
    "| AuctionNumber                          | Unique auction number which is accompanied by Bid number                                                                                                                                                                                                                                                                                                                                                                                                                                                            |\n",
    "| BidPrincipal                           | On Primary Market BidPrincipal is the amount you made your bid on. On Secondary Market BidPrincipal is the purchase price                                                                                                                                                                                                                                                                                                                                                                                           |\n",
    "| BidsApi                                | The amount of investment offers made via Api                                                                                                                                                                                                                                                                                                                                                                                                                                                                        |\n",
    "| BidsManual                             | The amount of investment offers made manually                                                                                                                                                                                                                                                                                                                                                                                                                                                                       |\n",
    "| BidsPortfolioManager                   | The amount of investment offers made by Portfolio Managers                                                                                                                                                                                                                                                                                                                                                                                                                                                          |\n",
    "| BoughtFromResale_Date                  | The time when the investment was purchased from the Secondary Market                                                                                                                                                                                                                                                                                                                                                                                                                                                |\n",
    "| City                                   | City of the borrower                                                                                                                                                                                                                                                                                                                                                                                                                                                                                                |\n",
    "| ContractEndDate                        | The date when the loan contract ended                                                                                                                                                                                                                                                                                                                                                                                                                                                                               |\n",
    "| Country                                | Residency of the borrower                                                                                                                                                                                                                                                                                                                                                                                                                                                                                           |\n",
    "| County                                 | County of the borrower                                                                                                                                                                                                                                                                                                                                                                                                                                                                                              |\n",
    "| CreditScoreEeMini                      | 1000 No previous payments problems 900 Payments problems finished 24-36 months ago 800 Payments problems finished 12-24 months ago 700 Payments problems finished 6-12 months ago 600 Payment problems finished < 6 months ago 500 Active payment problems                                                                                                                                                                                                                                                          |\n",
    "| CreditScoreEsEquifaxRisk               | Generic score for the loan applicants that do not have active past due operations in ASNEF; a measure of the probability of default one year ahead; the score is given on a 6-grade scale: AAA (“Very low”), AA (“Low”), A (“Average”), B (“Average High”), C (“High”), D (“Very High”).                                                                                                                                                                                                                            |\n",
    "| CreditScoreEsMicroL                    | A score that is specifically designed for risk classifying subprime borrowers (defined by Equifax as borrowers that do not have access to bank loans); a measure of the probability of default one month ahead; the score is given on a 10-grade scale, from the best score to the worst: M1, M2, M3, M4, M5, M6, M7, M8, M9, M10.                                                                                                                                                                                  |\n",
    "| CreditScoreFiAsiakasTietoRiskGrade     | Credit Scoring model for Finnish Asiakastieto RL1 Very low risk 01-20 RL2 Low risk 21-40 RL3 Average risk 41-60 RL4 Big risk 61-80 RL5 Huge risk 81-100                                                                                                                                                                                                                                                                                                                                                             |\n",
    "| CurrentDebtDaysPrimary                 | How long the loan has been in Principal Debt                                                                                                                                                                                                                                                                                                                                                                                                                                                                        |\n",
    "| CurrentDebtDaysSecondary               | How long the loan has been in Interest Debt                                                                                                                                                                                                                                                                                                                                                                                                                                                                         |\n",
    "| DateOfBirth                            | The date of the borrower's birth                                                                                                                                                                                                                                                                                                                                                                                                                                                                                    |\n",
    "| DebtOccuredOn                          | The date when Principal Debt occurred                                                                                                                                                                                                                                                                                                                                                                                                                                                                               |\n",
    "| DebtOccuredOnForSecondary              | The date when Interest Debt occurred                                                                                                                                                                                                                                                                                                                                                                                                                                                                                |\n",
    "| DebtToIncome                           | Ratio of borrower's monthly gross income that goes toward paying loans                                                                                                                                                                                                                                                                                                                                                                                                                                              |\n",
    "| DefaultDate                            | The date when loan went into defaulted state and collection process was started                                                                                                                                                                                                                                                                                                                                                                                                                                     |\n",
    "| DesiredDiscountRate                    | Investment being sold at a discount or premium                                                                                                                                                                                                                                                                                                                                                                                                                                                                      |\n",
    "| EAD1                                   | Exposure at default, outstanding principal at default                                                                                                                                                                                                                                                                                                                                                                                                                                                               |\n",
    "| EAD2                                   | Exposure at default, loan amount less all payments prior to default                                                                                                                                                                                                                                                                                                                                                                                                                                                 |\n",
    "| Education                              | 1 Primary education 2 Basic education 3 Vocational education 4 Secondary education 5 Higher education                                                                                                                                                                                                                                                                                                                                                                                                               |\n",
    "| EL_V0                                  | Expected loss calculated by the specified version of Rating model                                                                                                                                                                                                                                                                                                                                                                                                                                                   |\n",
    "| EL_V1                                  | Expected loss calculated by the specified version of Rating model                                                                                                                                                                                                                                                                                                                                                                                                                                                   |\n",
    "| EL_V2                                  | Expected loss calculated by the specified version of Rating model                                                                                                                                                                                                                                                                                                                                                                                                                                                   |\n",
    "| EmploymentDurationCurrentEmployer      | Employment time with the current employer                                                                                                                                                                                                                                                                                                                                                                                                                                                                           |\n",
    "| EmploymentPosition                     | Employment position with the current employer                                                                                                                                                                                                                                                                                                                                                                                                                                                                       |\n",
    "| EmploymentStatus                       | 1 Unemployed 2 Partially employed 3 Fully employed 4 Self-employed 5 Entrepreneur 6 Retiree                                                                                                                                                                                                                                                                                                                                                                                                                         |\n",
    "| ExistingLiabilities                    | Borrower's number of existing liabilities                                                                                                                                                                                                                                                                                                                                                                                                                                                                           |\n",
    "| ExpectedLoss                           | Expected Loss calculated by the current Rating model                                                                                                                                                                                                                                                                                                                                                                                                                                                                |\n",
    "| ExpectedReturn                         | Expected Return calculated by the current Rating model                                                                                                                                                                                                                                                                                                                                                                                                                                                              |\n",
    "| FirstPaymentDate                       | First payment date according to initial loan schedule                                                                                                                                                                                                                                                                                                                                                                                                                                                               |\n",
    "| FreeCash                               | Discretionary income after monthly liabilities                                                                                                                                                                                                                                                                                                                                                                                                                                                                      |\n",
    "| Gender                                 | 0 Male 1 Woman 2 Undefined                                                                                                                                                                                                                                                                                                                                                                                                                                                                                          |\n",
    "| GracePeriodEnd                         | Date of the end of Grace period                                                                                                                                                                                                                                                                                                                                                                                                                                                                                     |\n",
    "| GracePeriodStart                       | Date of the beginning of Grace period                                                                                                                                                                                                                                                                                                                                                                                                                                                                               |\n",
    "| HomeOwnershipType                      | 0 Homeless 1 Owner 2 Living with parents 3 Tenant, pre-furnished property 4 Tenant, unfurnished property 5 Council house 6 Joint tenant 7 Joint ownership 8 Mortgage 9 Owner with encumbrance 10 Other                                                                                                                                                                                                                                                                                                              |\n",
    "| IncomeFromChildSupport                 | Borrower's income from alimony payments                                                                                                                                                                                                                                                                                                                                                                                                                                                                             |\n",
    "| IncomeFromFamilyAllowance              | Borrower's income from child support                                                                                                                                                                                                                                                                                                                                                                                                                                                                                |\n",
    "| IncomeFromLeavePay                     | Borrower's income from paternity leave                                                                                                                                                                                                                                                                                                                                                                                                                                                                              |\n",
    "| IncomeFromPension                      | Borrower's income from pension                                                                                                                                                                                                                                                                                                                                                                                                                                                                                      |\n",
    "| IncomeFromPrincipalEmployer            | Borrower's income from its employer                                                                                                                                                                                                                                                                                                                                                                                                                                                                                 |\n",
    "| IncomeFromSocialWelfare                | Borrower's income from social support                                                                                                                                                                                                                                                                                                                                                                                                                                                                               |\n",
    "| IncomeOther                            | Borrower's income from other sources                                                                                                                                                                                                                                                                                                                                                                                                                                                                                |\n",
    "| IncomeTotal                            | Borrower's total income                                                                                                                                                                                                                                                                                                                                                                                                                                                                                             |\n",
    "| Interest                               | Maximum interest rate accepted in the loan application                                                                                                                                                                                                                                                                                                                                                                                                                                                              |\n",
    "| InterestAndPenaltyBalance              | Unpaid interest and penalties                                                                                                                                                                                                                                                                                                                                                                                                                                                                                       |\n",
    "| InterestAndPenaltyDebtServicingCost    | Service cost related to the recovery of the debt based on the interest and penalties of the investment                                                                                                                                                                                                                                                                                                                                                                                                              |\n",
    "| InterestAndPenaltyPaymentsMade         | Note owner received loan transfers earned interest, penalties total amount                                                                                                                                                                                                                                                                                                                                                                                                                                          |\n",
    "| InterestAndPenaltyWriteOffs            | Interest that was written off on the investment                                                                                                                                                                                                                                                                                                                                                                                                                                                                     |\n",
    "| InterestLateAmount                     | Interest debt amount                                                                                                                                                                                                                                                                                                                                                                                                                                                                                                |\n",
    "| InterestRecovery                       | Interest recovered due to collection process from in debt loans                                                                                                                                                                                                                                                                                                                                                                                                                                                     |\n",
    "| LanguageCode                           | 1 Estonian 2 English 3 Russian 4 Finnish 5 German 6 Spanish 9 Slovakian                                                                                                                                                                                                                                                                                                                                                                                                                                             |\n",
    "| LastPaymentOn                          | The date of the current last payment received from the borrower                                                                                                                                                                                                                                                                                                                                                                                                                                                     |\n",
    "| LiabilitiesTotal                       | Total monthly liabilities                                                                                                                                                                                                                                                                                                                                                                                                                                                                                           |\n",
    "| ListedOnUTC                            | Date when the loan application appeared on Primary Market                                                                                                                                                                                                                                                                                                                                                                                                                                                           |\n",
    "| LoanDate                               | Date when the loan was issued                                                                                                                                                                                                                                                                                                                                                                                                                                                                                       |\n",
    "| LoanDuration                           | Current loan duration in months                                                                                                                                                                                                                                                                                                                                                                                                                                                                                     |\n",
    "| LoanId                                 | A unique ID given to all loan applications                                                                                                                                                                                                                                                                                                                                                                                                                                                                          |\n",
    "| LoanNumber                             | A unique number given to all loan applications                                                                                                                                                                                                                                                                                                                                                                                                                                                                      |\n",
    "| LoanStatusActiveFrom                   | How long the current status has been active                                                                                                                                                                                                                                                                                                                                                                                                                                                                         |\n",
    "| LossGivenDefault                       | Gives the percentage of outstanding exposure at the time of default that an investor is likely to lose if a loan actually defaults. This means the proportion of funds lost for the investor after all expected recovery and accounting for the time value of the money recovered. In general, LGD parameter is intended to be estimated based on the historical recoveries. However, in new markets where limited experience does not allow us more precise loss given default estimates, a LGD of 90% is assumed. |\n",
    "| MaritalStatus                          | 1 Married 2 Cohabitant 3 Single 4 Divorced 5 Widow                                                                                                                                                                                                                                                                                                                                                                                                                                                                  |\n",
    "| MaturityDate_Last                      | Loan maturity date according to the current payment schedule                                                                                                                                                                                                                                                                                                                                                                                                                                                        |\n",
    "| MaturityDate_Original                  | Loan maturity date according to the original loan schedule                                                                                                                                                                                                                                                                                                                                                                                                                                                          |\n",
    "| ModelVersion                           | The version of the Rating model used for issuing the Bondora Rating                                                                                                                                                                                                                                                                                                                                                                                                                                                 |\n",
    "| MonthlyPayment                         | Estimated amount the borrower has to pay every month                                                                                                                                                                                                                                                                                                                                                                                                                                                                |\n",
    "| MonthlyPaymentDay                      | The day of the month the loan payments are scheduled for The actual date is adjusted for weekends and bank holidays (e.g. if 10th is Sunday then the payment will be made on the 11th in that month)                                                                                                                                                                                                                                                                                                                |\n",
    "| NewCreditCustomer                      | Did the customer have prior credit history in Bondora 0 Customer had at least 3 months of credit history in Bondora 1 No prior credit history in Bondora                                                                                                                                                                                                                                                                                                                                                            |\n",
    "| NextPaymentDate                        | According to schedule the next date for borrower to make their payment                                                                                                                                                                                                                                                                                                                                                                                                                                              |\n",
    "| NextPaymentNr                          | According to schedule the number of the next payment                                                                                                                                                                                                                                                                                                                                                                                                                                                                |\n",
    "| NextPaymentSum                         | According to schedule the amount of the next payment                                                                                                                                                                                                                                                                                                                                                                                                                                                                |\n",
    "| NoOfPreviousLoansBeforeLoan            | Number of previous loans                                                                                                                                                                                                                                                                                                                                                                                                                                                                                            |\n",
    "| note_id                                | A unique ID given to the investments                                                                                                                                                                                                                                                                                                                                                                                                                                                                                |\n",
    "| NoteLoanLateChargesPaid                | The amount of late charges the note has received                                                                                                                                                                                                                                                                                                                                                                                                                                                                    |\n",
    "| NoteLoanTransfersInterestAmount        | The amount of interest the note has received                                                                                                                                                                                                                                                                                                                                                                                                                                                                        |\n",
    "| NoteLoanTransfersMainAmount            | The amount of principal the note has received                                                                                                                                                                                                                                                                                                                                                                                                                                                                       |\n",
    "| NrOfDependants                         | Number of children or other dependants                                                                                                                                                                                                                                                                                                                                                                                                                                                                              |\n",
    "| NrOfScheduledPayments                  | According to schedule the count of scheduled payments                                                                                                                                                                                                                                                                                                                                                                                                                                                               |\n",
    "| OccupationArea                         | 1 Other 2 Mining 3 Processing 4 Energy 5 Utilities 6 Construction 7 Retail and wholesale 8 Transport and warehousing 9 Hospitality and catering 10 Info and telecom 11 Finance and insurance 12 Real-estate 13 Research 14 Administrative 15 Civil service & military 16 Education 17 Healthcare and social help 18 Art and entertainment 19 Agriculture, forestry and fishing                                                                                                                                      |\n",
    "| OnSaleSince                            | Time when the investment was added to Secondary Market                                                                                                                                                                                                                                                                                                                                                                                                                                                              |\n",
    "| PenaltyLateAmount                      | Late charges debt amount                                                                                                                                                                                                                                                                                                                                                                                                                                                                                            |\n",
    "| PlannedInterestPostDefault             | The amount of interest that was planned to be received after the default occurred                                                                                                                                                                                                                                                                                                                                                                                                                                   |\n",
    "| PlannedInterestTillDate                | According to active schedule the amount of interest the investment should have received                                                                                                                                                                                                                                                                                                                                                                                                                             |\n",
    "| PlannedPrincipalPostDefault            | The amount of principal that was planned to be received after the default occurred                                                                                                                                                                                                                                                                                                                                                                                                                                  |\n",
    "| PlannedPrincipalTillDate               | According to active schedule the amount of principal the investment should have received                                                                                                                                                                                                                                                                                                                                                                                                                            |\n",
    "| PreviousEarlyRepaymentsBeforeLoan      | How much was the early repayment amount before the loan                                                                                                                                                                                                                                                                                                                                                                                                                                                             |\n",
    "| PreviousEarlyRepaymentsCountBeforeLoan | How many times the borrower had repaid early                                                                                                                                                                                                                                                                                                                                                                                                                                                                        |\n",
    "| PreviousRepaymentsBeforeLoan           | How much the borrower had repaid before the loan                                                                                                                                                                                                                                                                                                                                                                                                                                                                    |\n",
    "| PrincipalBalance                       | Principal that still needs to be paid by the borrower                                                                                                                                                                                                                                                                                                                                                                                                                                                               |\n",
    "| PrincipalDebtServicingCost             | Service cost related to the recovery of the debt based on the principal of the investment                                                                                                                                                                                                                                                                                                                                                                                                                           |\n",
    "| PrincipalLateAmount                    | Principal debt amount                                                                                                                                                                                                                                                                                                                                                                                                                                                                                               |\n",
    "| PrincipalOverdueBySchedule             | According to the current schedule, principal that is overdue                                                                                                                                                                                                                                                                                                                                                                                                                                                        |\n",
    "| PrincipalPaymentsMade                  | Note owner received loan transfers principal amount                                                                                                                                                                                                                                                                                                                                                                                                                                                                 |\n",
    "| PrincipalRecovery                      | Principal recovered due to collection process from in debt loans                                                                                                                                                                                                                                                                                                                                                                                                                                                    |\n",
    "| PrincipalWriteOffs                     | Principal that was written off on the investment                                                                                                                                                                                                                                                                                                                                                                                                                                                                    |\n",
    "| ProbabilityOfDefault                   | Probability of Default, refers to a loan’s probability of default within one year horizon.                                                                                                                                                                                                                                                                                                                                                                                                                          |\n",
    "| PurchasePrice                          | Investment amount or secondary market purchase price                                                                                                                                                                                                                                                                                                                                                                                                                                                                |\n",
    "| Rating                                 | Bondora Rating issued by the Rating model                                                                                                                                                                                                                                                                                                                                                                                                                                                                           |\n",
    "| Rating_V0                              | Bondora Rating issued by version 0 of the Rating model                                                                                                                                                                                                                                                                                                                                                                                                                                                              |\n",
    "| Rating_V1                              | Bondora Rating issued by version 1 of the Rating model                                                                                                                                                                                                                                                                                                                                                                                                                                                              |\n",
    "| Rating_V2                              | Bondora Rating issued by version 2 of the Rating model                                                                                                                                                                                                                                                                                                                                                                                                                                                              |\n",
    "| RecoveryStage                          | Current stage according to the recovery model 1 Collection 2 Recovery 3 Write Off                                                                                                                                                                                                                                                                                                                                                                                                                                   |\n",
    "| RefinanceLiabilities                   | The total amount of liabilities after refinancing                                                                                                                                                                                                                                                                                                                                                                                                                                                                   |\n",
    "| ReScheduledOn                          | The date when the a new schedule was assigned to the borrower                                                                                                                                                                                                                                                                                                                                                                                                                                                       |\n",
    "| Restructured                           | The original maturity date of the loan has been increased by more than 60 days                                                                                                                                                                                                                                                                                                                                                                                                                                      |\n",
    "| SoldInResale_Date                      | The date when the investment was sold on Secondary market                                                                                                                                                                                                                                                                                                                                                                                                                                                           |\n",
    "| SoldInResale_Price                     | The price of the investment that was sold on Secondary market                                                                                                                                                                                                                                                                                                                                                                                                                                                       |\n",
    "| SoldInResale_Principal                 | The principal remaining of the investment that was sold on Secondary market                                                                                                                                                                                                                                                                                                                                                                                                                                         |\n",
    "| StageActiveSince                       | How long the current recovery stage has been active                                                                                                                                                                                                                                                                                                                                                                                                                                                                 |\n",
    "| Status                                 | The current status of the loan application                                                                                                                                                                                                                                                                                                                                                                                                                                                                          |\n",
    "| UseOfLoan                              | 0 Loan consolidation 1 Real estate 2 Home improvement 3 Business 4 Education 5 Travel 6 Vehicle 7 Other 8 Health 101 Working capital financing 102 Purchase of machinery equipment 103 Renovation of real estate 104 Accounts receivable financing 105 Acquisition of means of transport 106 Construction finance 107 Acquisition of stocks 108 Acquisition of real estate 109 Guaranteeing obligation 110 Other business All codes in format 1XX are for business loans that are not supported since October 2012  |\n",
    "| UserName                               | The user name generated by the system for the borrower                                                                                                                                                                                                                                                                                                                                                                                                                                                              |\n",
    "| VerificationType                       | Method used for loan application data verification 0 Not set 1 Income unverified 2 Income unverified, cross-referenced by phone 3 Income verified 4 Income and expenses verified                                                                                                                                                                                                                                                                                                                                    |\n",
    "| WorkExperience                         | Borrower's overall work experience in years                                                                                                                                                                                                                                                                                                                                                                                                                                                                         |\n",
    "| WorseLateCategory                      | Displays the last longest period of days when the loan was in Principal Debt                                                                                                                                                                                                                                                                                                                                                                                                                                        |\n",
    "| XIRR                                   | XIRR (extended internal rate of return) is a methodology to calculate the net return using the loan issued date and amount, loan repayment dates and amounts and the principal balance according to the original repayment date. All overdue principal payments are written off immediately. No provisions for future losses are made & only received (not accrued or scheduled) interest payments are taken into account.                                                                                          |"
   ]
  },
  {
   "cell_type": "code",
   "execution_count": 33,
   "id": "025081f3",
   "metadata": {},
   "outputs": [],
   "source": [
    "#for date time data types\n",
    "date_time = ['LoanDate', 'FirstPaymentDate', 'MaturityDate_Original',\n",
    "       'MaturityDate_Last', 'LastPaymentOn']\n"
   ]
  },
  {
   "cell_type": "code",
   "execution_count": 34,
   "id": "ff3fc32f",
   "metadata": {},
   "outputs": [],
   "source": [
    "df=df.drop(date_time,axis=1)"
   ]
  },
  {
   "cell_type": "code",
   "execution_count": 35,
   "id": "40799867",
   "metadata": {},
   "outputs": [
    {
     "data": {
      "text/plain": [
       "Index(['Country', 'County', 'City', 'EmploymentDurationCurrentEmployer',\n",
       "       'Rating', 'CreditScoreEsMicroL'],\n",
       "      dtype='object')"
      ]
     },
     "execution_count": 35,
     "metadata": {},
     "output_type": "execute_result"
    }
   ],
   "source": [
    "df_objs = df.select_dtypes(include='object')\n",
    "df_objs.columns"
   ]
  },
  {
   "cell_type": "code",
   "execution_count": 36,
   "id": "f0ffcdc9",
   "metadata": {},
   "outputs": [
    {
     "data": {
      "text/plain": [
       "Index(['BidsPortfolioManager', 'BidsApi', 'BidsManual', 'NewCreditCustomer',\n",
       "       'VerificationType', 'LanguageCode', 'Age', 'Gender', 'AppliedAmount',\n",
       "       'Amount', 'Interest', 'LoanDuration', 'MonthlyPayment', 'UseOfLoan',\n",
       "       'Education', 'MaritalStatus', 'EmploymentStatus', 'OccupationArea',\n",
       "       'HomeOwnershipType', 'IncomeTotal', 'ExistingLiabilities',\n",
       "       'LiabilitiesTotal', 'RefinanceLiabilities', 'DebtToIncome', 'FreeCash',\n",
       "       'MonthlyPaymentDay', 'Restructured', 'PrincipalPaymentsMade',\n",
       "       'InterestAndPenaltyPaymentsMade', 'PrincipalBalance',\n",
       "       'InterestAndPenaltyBalance', 'NoOfPreviousLoansBeforeLoan',\n",
       "       'AmountOfPreviousLoansBeforeLoan', 'PreviousRepaymentsBeforeLoan',\n",
       "       'PreviousEarlyRepaymentsCountBeforeLoan', 'target_var'],\n",
       "      dtype='object')"
      ]
     },
     "execution_count": 36,
     "metadata": {},
     "output_type": "execute_result"
    }
   ],
   "source": [
    "df_nums = df.select_dtypes(exclude='object')\n",
    "df_nums.columns"
   ]
  },
  {
   "cell_type": "markdown",
   "id": "0c97be4f",
   "metadata": {},
   "source": [
    "### checking for categorical values"
   ]
  },
  {
   "cell_type": "code",
   "execution_count": 37,
   "id": "c068e6b0",
   "metadata": {},
   "outputs": [
    {
     "data": {
      "text/plain": [
       "4.0    74572\n",
       "1.0    48648\n",
       "3.0     9428\n",
       "2.0     1828\n",
       "0.0        8\n",
       "Name: VerificationType, dtype: int64"
      ]
     },
     "execution_count": 37,
     "metadata": {},
     "output_type": "execute_result"
    }
   ],
   "source": [
    "# write your code here for VerificationType\n",
    "df[\"VerificationType\"].value_counts()"
   ]
  },
  {
   "cell_type": "code",
   "execution_count": 38,
   "id": "1a11c29d",
   "metadata": {},
   "outputs": [],
   "source": [
    "replace_VerificationType = {0:'Not Set',1:'Income unverified',2:'Income unverified, cross-referenced by phone',\n",
    "                            3:'Income verified',4:'Income and expenses verified'}"
   ]
  },
  {
   "cell_type": "code",
   "execution_count": 39,
   "id": "286928bd",
   "metadata": {},
   "outputs": [],
   "source": [
    "df['VerificationType'] = df['VerificationType'].map(replace_VerificationType) "
   ]
  },
  {
   "cell_type": "code",
   "execution_count": 40,
   "id": "333de9ef",
   "metadata": {},
   "outputs": [
    {
     "data": {
      "text/plain": [
       "Income and expenses verified                    74572\n",
       "Income unverified                               48648\n",
       "Income verified                                  9428\n",
       "Income unverified, cross-referenced by phone     1828\n",
       "Not Set                                             8\n",
       "Name: VerificationType, dtype: int64"
      ]
     },
     "execution_count": 40,
     "metadata": {},
     "output_type": "execute_result"
    }
   ],
   "source": [
    "df[\"VerificationType\"].value_counts()"
   ]
  },
  {
   "cell_type": "code",
   "execution_count": 41,
   "id": "e4dbcfc1",
   "metadata": {},
   "outputs": [
    {
     "data": {
      "text/plain": [
       "0.0    85650\n",
       "1.0    38213\n",
       "2.0    10621\n",
       "Name: Gender, dtype: int64"
      ]
     },
     "execution_count": 41,
     "metadata": {},
     "output_type": "execute_result"
    }
   ],
   "source": [
    "# write your code here Gender\n",
    "df[\"Gender\"].value_counts()"
   ]
  },
  {
   "cell_type": "code",
   "execution_count": 42,
   "id": "b32245b9",
   "metadata": {},
   "outputs": [],
   "source": [
    "replace_gender={0:'Male',1:'Women',2:'Undefined'  }"
   ]
  },
  {
   "cell_type": "code",
   "execution_count": 43,
   "id": "75966c68",
   "metadata": {},
   "outputs": [],
   "source": [
    "df['Gender'] = df['Gender'].map(replace_gender) "
   ]
  },
  {
   "cell_type": "code",
   "execution_count": 44,
   "id": "7aad315d",
   "metadata": {},
   "outputs": [
    {
     "data": {
      "text/plain": [
       "Male         85650\n",
       "Women        38213\n",
       "Undefined    10621\n",
       "Name: Gender, dtype: int64"
      ]
     },
     "execution_count": 44,
     "metadata": {},
     "output_type": "execute_result"
    }
   ],
   "source": [
    "df[\"Gender\"].value_counts()"
   ]
  },
  {
   "cell_type": "code",
   "execution_count": 45,
   "id": "14285354",
   "metadata": {
    "scrolled": true
   },
   "outputs": [
    {
     "data": {
      "text/plain": [
       "1     64299\n",
       "4     32155\n",
       "6     24103\n",
       "3     12694\n",
       "2       967\n",
       "9       295\n",
       "22        6\n",
       "5         5\n",
       "15        1\n",
       "10        1\n",
       "13        1\n",
       "7         1\n",
       "21        1\n",
       "Name: LanguageCode, dtype: int64"
      ]
     },
     "execution_count": 45,
     "metadata": {},
     "output_type": "execute_result"
    }
   ],
   "source": [
    "# write your code here LanguageCode\n",
    "df[\"LanguageCode\"].value_counts()"
   ]
  },
  {
   "cell_type": "code",
   "execution_count": 46,
   "id": "7776b987",
   "metadata": {},
   "outputs": [
    {
     "data": {
      "text/plain": [
       "Estonian     64299\n",
       "Finnish      32155\n",
       "Spanish      24103\n",
       "Russian      12694\n",
       "English        967\n",
       "Slovakian      295\n",
       "Other           11\n",
       "German           5\n",
       "Name: LanguageCode, dtype: int64"
      ]
     },
     "execution_count": 46,
     "metadata": {},
     "output_type": "execute_result"
    }
   ],
   "source": [
    "# write your code here\n",
    "replace_languagecode = [None, 'Estonian', 'English', 'Russian', 'Finnish', 'German', 'Spanish', 7, 8, 'Slovakian']\n",
    "for n, i in enumerate(replace_languagecode):\n",
    "    df[\"LanguageCode\"][df[\"LanguageCode\"]==n] = i\n",
    "df[\"LanguageCode\"][~(df[\"LanguageCode\"].str.isnumeric()==False)] = 'Other'\n",
    "df[\"LanguageCode\"].value_counts()"
   ]
  },
  {
   "cell_type": "code",
   "execution_count": 47,
   "id": "468c8b43",
   "metadata": {},
   "outputs": [
    {
     "data": {
      "text/plain": [
       "-1      97946\n",
       " 7       9698\n",
       " 2       9191\n",
       " 0       6914\n",
       " 6       3150\n",
       " 3       1950\n",
       " 5       1787\n",
       " 8       1519\n",
       " 4       1366\n",
       " 1        955\n",
       " 102       21\n",
       " 110       17\n",
       " 104        6\n",
       " 101        5\n",
       " 107        2\n",
       " 108        1\n",
       " 106        1\n",
       "Name: UseOfLoan, dtype: int64"
      ]
     },
     "execution_count": 47,
     "metadata": {},
     "output_type": "execute_result"
    }
   ],
   "source": [
    "# write your code here for UseOfLoan\n",
    "df[\"UseOfLoan\"].value_counts()"
   ]
  },
  {
   "cell_type": "code",
   "execution_count": 48,
   "id": "5fae61ed",
   "metadata": {},
   "outputs": [],
   "source": [
    "replace_UseOfLoan={-1:'Not set',0:'Loan consolidation',1:'Real estate',2:'Home improvement',3:'Business',4:'Education',\n",
    "                   5:'Travel',6:'Vehicle',7:'Other',8:'Health',}"
   ]
  },
  {
   "cell_type": "code",
   "execution_count": 49,
   "id": "a7b30cfb",
   "metadata": {},
   "outputs": [],
   "source": [
    "df['UseOfLoan'] = df['UseOfLoan'].map(replace_UseOfLoan)"
   ]
  },
  {
   "cell_type": "code",
   "execution_count": 50,
   "id": "c619fc7e",
   "metadata": {},
   "outputs": [
    {
     "data": {
      "text/plain": [
       "Not set               97946\n",
       "Other                  9698\n",
       "Home improvement       9191\n",
       "Loan consolidation     6914\n",
       "Vehicle                3150\n",
       "Business               1950\n",
       "Travel                 1787\n",
       "Health                 1519\n",
       "Education              1366\n",
       "Real estate             955\n",
       "Name: UseOfLoan, dtype: int64"
      ]
     },
     "execution_count": 50,
     "metadata": {},
     "output_type": "execute_result"
    }
   ],
   "source": [
    "df[\"UseOfLoan\"].value_counts()"
   ]
  },
  {
   "cell_type": "code",
   "execution_count": 51,
   "id": "653d05f1",
   "metadata": {},
   "outputs": [
    {
     "data": {
      "text/plain": [
       " 4.0    51330\n",
       " 5.0    35398\n",
       " 3.0    29260\n",
       " 1.0    12057\n",
       " 2.0     6427\n",
       " 0.0        8\n",
       "-1.0        4\n",
       "Name: Education, dtype: int64"
      ]
     },
     "execution_count": 51,
     "metadata": {},
     "output_type": "execute_result"
    }
   ],
   "source": [
    "# write your code here for Education\n",
    "df[\"Education\"].value_counts()"
   ]
  },
  {
   "cell_type": "code",
   "execution_count": 52,
   "id": "61628560",
   "metadata": {},
   "outputs": [],
   "source": [
    "replace_Education={-1:'Not_present',1:'Primary education',2:'Basic education',3:'Vocational education',\n",
    "                   4:'Secondary education',5:'Higher education',}"
   ]
  },
  {
   "cell_type": "code",
   "execution_count": 53,
   "id": "df626d83",
   "metadata": {},
   "outputs": [],
   "source": [
    "df['Education'] = df['Education'].map(replace_Education) "
   ]
  },
  {
   "cell_type": "code",
   "execution_count": 54,
   "id": "cbe93029",
   "metadata": {},
   "outputs": [
    {
     "data": {
      "text/plain": [
       "Secondary education     51330\n",
       "Higher education        35398\n",
       "Vocational education    29260\n",
       "Primary education       12057\n",
       "Basic education          6427\n",
       "Not_present                 4\n",
       "Name: Education, dtype: int64"
      ]
     },
     "execution_count": 54,
     "metadata": {},
     "output_type": "execute_result"
    }
   ],
   "source": [
    "df[\"Education\"].value_counts()"
   ]
  },
  {
   "cell_type": "code",
   "execution_count": 55,
   "id": "8206612c",
   "metadata": {},
   "outputs": [
    {
     "data": {
      "text/plain": [
       "-1.0    97946\n",
       " 3.0    12400\n",
       " 1.0    10752\n",
       " 2.0     9400\n",
       " 4.0     3377\n",
       " 5.0      601\n",
       " 0.0        8\n",
       "Name: MaritalStatus, dtype: int64"
      ]
     },
     "execution_count": 55,
     "metadata": {},
     "output_type": "execute_result"
    }
   ],
   "source": [
    "# write your code here for MaritalStatus\n",
    "df[\"MaritalStatus\"].value_counts()"
   ]
  },
  {
   "cell_type": "code",
   "execution_count": 56,
   "id": "f47d94eb",
   "metadata": {},
   "outputs": [],
   "source": [
    "replace_MaritialStatus={-1:'Not_specified',1:'Married',2:'Cohabitant',3:'Single',4:'Divorced',5:'Widow'}"
   ]
  },
  {
   "cell_type": "code",
   "execution_count": 57,
   "id": "5b59d891",
   "metadata": {},
   "outputs": [],
   "source": [
    "df['MaritalStatus'] = df['MaritalStatus'].map(replace_MaritialStatus) "
   ]
  },
  {
   "cell_type": "code",
   "execution_count": 58,
   "id": "a1e9d4d4",
   "metadata": {},
   "outputs": [
    {
     "data": {
      "text/plain": [
       "Not_specified    97946\n",
       "Single           12400\n",
       "Married          10752\n",
       "Cohabitant        9400\n",
       "Divorced          3377\n",
       "Widow              601\n",
       "Name: MaritalStatus, dtype: int64"
      ]
     },
     "execution_count": 58,
     "metadata": {},
     "output_type": "execute_result"
    }
   ],
   "source": [
    "df[\"MaritalStatus\"].value_counts()"
   ]
  },
  {
   "cell_type": "code",
   "execution_count": 59,
   "id": "77c3bcc9",
   "metadata": {},
   "outputs": [
    {
     "data": {
      "text/plain": [
       "-1.0    97946\n",
       " 3.0    30060\n",
       " 5.0     2007\n",
       " 6.0     1800\n",
       " 4.0     1303\n",
       " 2.0     1184\n",
       " 0.0       32\n",
       "Name: EmploymentStatus, dtype: int64"
      ]
     },
     "execution_count": 59,
     "metadata": {},
     "output_type": "execute_result"
    }
   ],
   "source": [
    "# write your code here for EmploymentStatus\n",
    "df[\"EmploymentStatus\"].value_counts()"
   ]
  },
  {
   "cell_type": "code",
   "execution_count": 60,
   "id": "b61f088e",
   "metadata": {},
   "outputs": [],
   "source": [
    "replace_EmploymentStatus={-1:'Not_specified',1:'Unemployed',2:'Partially employed',3:'Fully employed',4:'Self-employed',\n",
    "                          5:'Entrepreneur',   5:'Retiree'}"
   ]
  },
  {
   "cell_type": "code",
   "execution_count": 61,
   "id": "e82efa8e",
   "metadata": {},
   "outputs": [],
   "source": [
    "df['EmploymentStatus'] = df['EmploymentStatus'].map(replace_EmploymentStatus)  "
   ]
  },
  {
   "cell_type": "code",
   "execution_count": 62,
   "id": "90683d1b",
   "metadata": {},
   "outputs": [
    {
     "data": {
      "text/plain": [
       "Not_specified         97946\n",
       "Fully employed        30060\n",
       "Retiree                2007\n",
       "Self-employed          1303\n",
       "Partially employed     1184\n",
       "Name: EmploymentStatus, dtype: int64"
      ]
     },
     "execution_count": 62,
     "metadata": {},
     "output_type": "execute_result"
    }
   ],
   "source": [
    "df[\"EmploymentStatus\"].value_counts()"
   ]
  },
  {
   "cell_type": "code",
   "execution_count": 63,
   "id": "0964ea02",
   "metadata": {},
   "outputs": [
    {
     "data": {
      "text/plain": [
       "-1.0     97997\n",
       " 1.0      8421\n",
       " 7.0      3587\n",
       " 6.0      3312\n",
       " 3.0      3198\n",
       " 8.0      2462\n",
       " 17.0     2424\n",
       " 9.0      2262\n",
       " 10.0     1933\n",
       " 15.0     1684\n",
       " 16.0     1430\n",
       " 11.0     1148\n",
       " 19.0     1000\n",
       " 14.0      843\n",
       " 18.0      619\n",
       " 4.0       587\n",
       " 13.0      564\n",
       " 12.0      477\n",
       " 5.0       362\n",
       " 2.0       122\n",
       " 0.0        11\n",
       "Name: OccupationArea, dtype: int64"
      ]
     },
     "execution_count": 63,
     "metadata": {},
     "output_type": "execute_result"
    }
   ],
   "source": [
    "# write your code here for OccupationArea\n",
    "df[\"OccupationArea\"].value_counts()"
   ]
  },
  {
   "cell_type": "code",
   "execution_count": 64,
   "id": "0ea64770",
   "metadata": {},
   "outputs": [],
   "source": [
    "replace_OccupationArea={-1:'Not_specified',1:'Other',2:'Mining',3:'Processing',4:'Energy',5:'Utilities',6:'Construction',\n",
    "                        7:'Retail and wholesale',8:'Transport and warehousing',9:'Hospitality and catering',\n",
    "                        10:'Info and telecom', 11:'Finance and insurance',12:'Real-estate',13:'Research',14:'Administrative',\n",
    "                        15:'Civil service & military',16:'Education',17:'Healthcare and social help',18:'Art and entertainment'\n",
    "                        ,19:'Agriculture, forestry and fishing'  }"
   ]
  },
  {
   "cell_type": "code",
   "execution_count": 65,
   "id": "f60000ed",
   "metadata": {},
   "outputs": [],
   "source": [
    "df['OccupationArea'] = df['OccupationArea'].map(replace_OccupationArea) "
   ]
  },
  {
   "cell_type": "code",
   "execution_count": 66,
   "id": "98df2101",
   "metadata": {},
   "outputs": [
    {
     "data": {
      "text/plain": [
       "Not_specified                        97997\n",
       "Other                                 8421\n",
       "Retail and wholesale                  3587\n",
       "Construction                          3312\n",
       "Processing                            3198\n",
       "Transport and warehousing             2462\n",
       "Healthcare and social help            2424\n",
       "Hospitality and catering              2262\n",
       "Info and telecom                      1933\n",
       "Civil service & military              1684\n",
       "Education                             1430\n",
       "Finance and insurance                 1148\n",
       "Agriculture, forestry and fishing     1000\n",
       "Administrative                         843\n",
       "Art and entertainment                  619\n",
       "Energy                                 587\n",
       "Research                               564\n",
       "Real-estate                            477\n",
       "Utilities                              362\n",
       "Mining                                 122\n",
       "Name: OccupationArea, dtype: int64"
      ]
     },
     "execution_count": 66,
     "metadata": {},
     "output_type": "execute_result"
    }
   ],
   "source": [
    "df[\"OccupationArea\"].value_counts()"
   ]
  },
  {
   "cell_type": "code",
   "execution_count": 67,
   "id": "b0cd30b2",
   "metadata": {},
   "outputs": [
    {
     "data": {
      "text/plain": [
       " 1.0     47334\n",
       " 3.0     29579\n",
       " 2.0     20780\n",
       " 8.0     15457\n",
       " 10.0     7956\n",
       " 4.0      4582\n",
       " 7.0      3337\n",
       " 6.0      1618\n",
       " 5.0      1442\n",
       " 9.0       743\n",
       " 0.0        46\n",
       "-1.0         3\n",
       "Name: HomeOwnershipType, dtype: int64"
      ]
     },
     "execution_count": 67,
     "metadata": {},
     "output_type": "execute_result"
    }
   ],
   "source": [
    "# write your code here for counts of HomeOwnershipType\n",
    "df[\"HomeOwnershipType\"].value_counts()"
   ]
  },
  {
   "cell_type": "code",
   "execution_count": 68,
   "id": "744883ef",
   "metadata": {},
   "outputs": [],
   "source": [
    "replace_HomeOwnershipType={-1:'Not_specified',0:'Homeless',1:'Owner',2:'Living with parents',3:'Tenant, pre-furnished property',\n",
    "                           4:'Tenant, unfurnished property',5:'Council house',6:'Joint tenant',7:'Joint ownership',8:'Mortgage',\n",
    "                           9:'Owner with encumbrance',10:'Other',}"
   ]
  },
  {
   "cell_type": "code",
   "execution_count": 69,
   "id": "18ecb169",
   "metadata": {},
   "outputs": [],
   "source": [
    "df['HomeOwnershipType'] = df['HomeOwnershipType'].map(replace_HomeOwnershipType)"
   ]
  },
  {
   "cell_type": "code",
   "execution_count": 70,
   "id": "98aa08a4",
   "metadata": {},
   "outputs": [
    {
     "data": {
      "text/plain": [
       "Owner                             47334\n",
       "Tenant, pre-furnished property    29579\n",
       "Living with parents               20780\n",
       "Mortgage                          15457\n",
       "Other                              7956\n",
       "Tenant, unfurnished property       4582\n",
       "Joint ownership                    3337\n",
       "Joint tenant                       1618\n",
       "Council house                      1442\n",
       "Owner with encumbrance              743\n",
       "Homeless                             46\n",
       "Not_specified                         3\n",
       "Name: HomeOwnershipType, dtype: int64"
      ]
     },
     "execution_count": 70,
     "metadata": {},
     "output_type": "execute_result"
    }
   ],
   "source": [
    "df[\"HomeOwnershipType\"].value_counts()"
   ]
  },
  {
   "cell_type": "code",
   "execution_count": 71,
   "id": "7977773b",
   "metadata": {},
   "outputs": [],
   "source": [
    "# save the final data\n",
    "df.to_csv('Bondora_preprocessed.csv',index=False)"
   ]
  },
  {
   "cell_type": "code",
   "execution_count": 72,
   "id": "7ff45103",
   "metadata": {},
   "outputs": [],
   "source": [
    "df=pd.read_csv('Bondora_preprocessed.csv')"
   ]
  },
  {
   "cell_type": "code",
   "execution_count": 73,
   "id": "67b7831c",
   "metadata": {},
   "outputs": [
    {
     "data": {
      "text/html": [
       "<div>\n",
       "<style scoped>\n",
       "    .dataframe tbody tr th:only-of-type {\n",
       "        vertical-align: middle;\n",
       "    }\n",
       "\n",
       "    .dataframe tbody tr th {\n",
       "        vertical-align: top;\n",
       "    }\n",
       "\n",
       "    .dataframe thead th {\n",
       "        text-align: right;\n",
       "    }\n",
       "</style>\n",
       "<table border=\"1\" class=\"dataframe\">\n",
       "  <thead>\n",
       "    <tr style=\"text-align: right;\">\n",
       "      <th></th>\n",
       "      <th>BidsPortfolioManager</th>\n",
       "      <th>BidsApi</th>\n",
       "      <th>BidsManual</th>\n",
       "      <th>NewCreditCustomer</th>\n",
       "      <th>VerificationType</th>\n",
       "      <th>LanguageCode</th>\n",
       "      <th>Age</th>\n",
       "      <th>Gender</th>\n",
       "      <th>Country</th>\n",
       "      <th>AppliedAmount</th>\n",
       "      <th>...</th>\n",
       "      <th>CreditScoreEsMicroL</th>\n",
       "      <th>PrincipalPaymentsMade</th>\n",
       "      <th>InterestAndPenaltyPaymentsMade</th>\n",
       "      <th>PrincipalBalance</th>\n",
       "      <th>InterestAndPenaltyBalance</th>\n",
       "      <th>NoOfPreviousLoansBeforeLoan</th>\n",
       "      <th>AmountOfPreviousLoansBeforeLoan</th>\n",
       "      <th>PreviousRepaymentsBeforeLoan</th>\n",
       "      <th>PreviousEarlyRepaymentsCountBeforeLoan</th>\n",
       "      <th>target_var</th>\n",
       "    </tr>\n",
       "  </thead>\n",
       "  <tbody>\n",
       "    <tr>\n",
       "      <th>0</th>\n",
       "      <td>0</td>\n",
       "      <td>0</td>\n",
       "      <td>115.0410</td>\n",
       "      <td>True</td>\n",
       "      <td>Income unverified, cross-referenced by phone</td>\n",
       "      <td>Estonian</td>\n",
       "      <td>61</td>\n",
       "      <td>Women</td>\n",
       "      <td>EE</td>\n",
       "      <td>319.5582</td>\n",
       "      <td>...</td>\n",
       "      <td>NaN</td>\n",
       "      <td>115.0408</td>\n",
       "      <td>20.4222</td>\n",
       "      <td>0.00</td>\n",
       "      <td>0.00</td>\n",
       "      <td>1</td>\n",
       "      <td>83.0852</td>\n",
       "      <td>0.0000</td>\n",
       "      <td>0</td>\n",
       "      <td>0</td>\n",
       "    </tr>\n",
       "    <tr>\n",
       "      <th>1</th>\n",
       "      <td>0</td>\n",
       "      <td>0</td>\n",
       "      <td>140.6057</td>\n",
       "      <td>False</td>\n",
       "      <td>Income unverified, cross-referenced by phone</td>\n",
       "      <td>Estonian</td>\n",
       "      <td>48</td>\n",
       "      <td>Women</td>\n",
       "      <td>EE</td>\n",
       "      <td>191.7349</td>\n",
       "      <td>...</td>\n",
       "      <td>NaN</td>\n",
       "      <td>140.6057</td>\n",
       "      <td>2.0227</td>\n",
       "      <td>0.00</td>\n",
       "      <td>0.00</td>\n",
       "      <td>2</td>\n",
       "      <td>255.6467</td>\n",
       "      <td>258.6256</td>\n",
       "      <td>0</td>\n",
       "      <td>0</td>\n",
       "    </tr>\n",
       "    <tr>\n",
       "      <th>2</th>\n",
       "      <td>0</td>\n",
       "      <td>0</td>\n",
       "      <td>319.5580</td>\n",
       "      <td>True</td>\n",
       "      <td>Income unverified, cross-referenced by phone</td>\n",
       "      <td>Estonian</td>\n",
       "      <td>58</td>\n",
       "      <td>Women</td>\n",
       "      <td>EE</td>\n",
       "      <td>319.5582</td>\n",
       "      <td>...</td>\n",
       "      <td>NaN</td>\n",
       "      <td>203.1909</td>\n",
       "      <td>59.7626</td>\n",
       "      <td>116.35</td>\n",
       "      <td>414.07</td>\n",
       "      <td>0</td>\n",
       "      <td>0.0000</td>\n",
       "      <td>0.0000</td>\n",
       "      <td>0</td>\n",
       "      <td>1</td>\n",
       "    </tr>\n",
       "    <tr>\n",
       "      <th>3</th>\n",
       "      <td>0</td>\n",
       "      <td>0</td>\n",
       "      <td>57.5205</td>\n",
       "      <td>True</td>\n",
       "      <td>Income unverified, cross-referenced by phone</td>\n",
       "      <td>Estonian</td>\n",
       "      <td>23</td>\n",
       "      <td>Women</td>\n",
       "      <td>EE</td>\n",
       "      <td>127.8233</td>\n",
       "      <td>...</td>\n",
       "      <td>NaN</td>\n",
       "      <td>57.5205</td>\n",
       "      <td>18.7323</td>\n",
       "      <td>0.00</td>\n",
       "      <td>0.00</td>\n",
       "      <td>1</td>\n",
       "      <td>134.2144</td>\n",
       "      <td>0.0000</td>\n",
       "      <td>0</td>\n",
       "      <td>0</td>\n",
       "    </tr>\n",
       "    <tr>\n",
       "      <th>4</th>\n",
       "      <td>0</td>\n",
       "      <td>0</td>\n",
       "      <td>319.5582</td>\n",
       "      <td>True</td>\n",
       "      <td>Income unverified, cross-referenced by phone</td>\n",
       "      <td>Estonian</td>\n",
       "      <td>25</td>\n",
       "      <td>Women</td>\n",
       "      <td>EE</td>\n",
       "      <td>319.5582</td>\n",
       "      <td>...</td>\n",
       "      <td>NaN</td>\n",
       "      <td>319.5436</td>\n",
       "      <td>220.4200</td>\n",
       "      <td>0.00</td>\n",
       "      <td>0.00</td>\n",
       "      <td>1</td>\n",
       "      <td>146.9966</td>\n",
       "      <td>0.0000</td>\n",
       "      <td>0</td>\n",
       "      <td>1</td>\n",
       "    </tr>\n",
       "  </tbody>\n",
       "</table>\n",
       "<p>5 rows × 42 columns</p>\n",
       "</div>"
      ],
      "text/plain": [
       "   BidsPortfolioManager  BidsApi  BidsManual  NewCreditCustomer  \\\n",
       "0                     0        0    115.0410               True   \n",
       "1                     0        0    140.6057              False   \n",
       "2                     0        0    319.5580               True   \n",
       "3                     0        0     57.5205               True   \n",
       "4                     0        0    319.5582               True   \n",
       "\n",
       "                               VerificationType LanguageCode  Age Gender  \\\n",
       "0  Income unverified, cross-referenced by phone     Estonian   61  Women   \n",
       "1  Income unverified, cross-referenced by phone     Estonian   48  Women   \n",
       "2  Income unverified, cross-referenced by phone     Estonian   58  Women   \n",
       "3  Income unverified, cross-referenced by phone     Estonian   23  Women   \n",
       "4  Income unverified, cross-referenced by phone     Estonian   25  Women   \n",
       "\n",
       "  Country  AppliedAmount  ...  CreditScoreEsMicroL  PrincipalPaymentsMade  \\\n",
       "0      EE       319.5582  ...                  NaN               115.0408   \n",
       "1      EE       191.7349  ...                  NaN               140.6057   \n",
       "2      EE       319.5582  ...                  NaN               203.1909   \n",
       "3      EE       127.8233  ...                  NaN                57.5205   \n",
       "4      EE       319.5582  ...                  NaN               319.5436   \n",
       "\n",
       "   InterestAndPenaltyPaymentsMade  PrincipalBalance InterestAndPenaltyBalance  \\\n",
       "0                         20.4222              0.00                      0.00   \n",
       "1                          2.0227              0.00                      0.00   \n",
       "2                         59.7626            116.35                    414.07   \n",
       "3                         18.7323              0.00                      0.00   \n",
       "4                        220.4200              0.00                      0.00   \n",
       "\n",
       "  NoOfPreviousLoansBeforeLoan AmountOfPreviousLoansBeforeLoan  \\\n",
       "0                           1                         83.0852   \n",
       "1                           2                        255.6467   \n",
       "2                           0                          0.0000   \n",
       "3                           1                        134.2144   \n",
       "4                           1                        146.9966   \n",
       "\n",
       "  PreviousRepaymentsBeforeLoan PreviousEarlyRepaymentsCountBeforeLoan  \\\n",
       "0                       0.0000                                      0   \n",
       "1                     258.6256                                      0   \n",
       "2                       0.0000                                      0   \n",
       "3                       0.0000                                      0   \n",
       "4                       0.0000                                      0   \n",
       "\n",
       "  target_var  \n",
       "0          0  \n",
       "1          0  \n",
       "2          1  \n",
       "3          0  \n",
       "4          1  \n",
       "\n",
       "[5 rows x 42 columns]"
      ]
     },
     "execution_count": 73,
     "metadata": {},
     "output_type": "execute_result"
    }
   ],
   "source": [
    "df.head()"
   ]
  },
  {
   "cell_type": "markdown",
   "id": "579cd20c",
   "metadata": {},
   "source": [
    "# TASK 2 - Exploratory Data Analysis (EDA)\n"
   ]
  },
  {
   "cell_type": "code",
   "execution_count": 74,
   "id": "02f6ae45",
   "metadata": {},
   "outputs": [
    {
     "data": {
      "text/html": [
       "<div>\n",
       "<style scoped>\n",
       "    .dataframe tbody tr th:only-of-type {\n",
       "        vertical-align: middle;\n",
       "    }\n",
       "\n",
       "    .dataframe tbody tr th {\n",
       "        vertical-align: top;\n",
       "    }\n",
       "\n",
       "    .dataframe thead th {\n",
       "        text-align: right;\n",
       "    }\n",
       "</style>\n",
       "<table border=\"1\" class=\"dataframe\">\n",
       "  <thead>\n",
       "    <tr style=\"text-align: right;\">\n",
       "      <th></th>\n",
       "      <th>BidsPortfolioManager</th>\n",
       "      <th>BidsApi</th>\n",
       "      <th>BidsManual</th>\n",
       "      <th>NewCreditCustomer</th>\n",
       "      <th>VerificationType</th>\n",
       "      <th>LanguageCode</th>\n",
       "      <th>Age</th>\n",
       "      <th>Gender</th>\n",
       "      <th>Country</th>\n",
       "      <th>AppliedAmount</th>\n",
       "      <th>...</th>\n",
       "      <th>CreditScoreEsMicroL</th>\n",
       "      <th>PrincipalPaymentsMade</th>\n",
       "      <th>InterestAndPenaltyPaymentsMade</th>\n",
       "      <th>PrincipalBalance</th>\n",
       "      <th>InterestAndPenaltyBalance</th>\n",
       "      <th>NoOfPreviousLoansBeforeLoan</th>\n",
       "      <th>AmountOfPreviousLoansBeforeLoan</th>\n",
       "      <th>PreviousRepaymentsBeforeLoan</th>\n",
       "      <th>PreviousEarlyRepaymentsCountBeforeLoan</th>\n",
       "      <th>target_var</th>\n",
       "    </tr>\n",
       "  </thead>\n",
       "  <tbody>\n",
       "    <tr>\n",
       "      <th>0</th>\n",
       "      <td>0</td>\n",
       "      <td>0</td>\n",
       "      <td>115.0410</td>\n",
       "      <td>True</td>\n",
       "      <td>Income unverified, cross-referenced by phone</td>\n",
       "      <td>Estonian</td>\n",
       "      <td>61</td>\n",
       "      <td>Women</td>\n",
       "      <td>EE</td>\n",
       "      <td>319.5582</td>\n",
       "      <td>...</td>\n",
       "      <td>NaN</td>\n",
       "      <td>115.0408</td>\n",
       "      <td>20.4222</td>\n",
       "      <td>0.00</td>\n",
       "      <td>0.00</td>\n",
       "      <td>1</td>\n",
       "      <td>83.0852</td>\n",
       "      <td>0.0000</td>\n",
       "      <td>0</td>\n",
       "      <td>0</td>\n",
       "    </tr>\n",
       "    <tr>\n",
       "      <th>1</th>\n",
       "      <td>0</td>\n",
       "      <td>0</td>\n",
       "      <td>140.6057</td>\n",
       "      <td>False</td>\n",
       "      <td>Income unverified, cross-referenced by phone</td>\n",
       "      <td>Estonian</td>\n",
       "      <td>48</td>\n",
       "      <td>Women</td>\n",
       "      <td>EE</td>\n",
       "      <td>191.7349</td>\n",
       "      <td>...</td>\n",
       "      <td>NaN</td>\n",
       "      <td>140.6057</td>\n",
       "      <td>2.0227</td>\n",
       "      <td>0.00</td>\n",
       "      <td>0.00</td>\n",
       "      <td>2</td>\n",
       "      <td>255.6467</td>\n",
       "      <td>258.6256</td>\n",
       "      <td>0</td>\n",
       "      <td>0</td>\n",
       "    </tr>\n",
       "    <tr>\n",
       "      <th>2</th>\n",
       "      <td>0</td>\n",
       "      <td>0</td>\n",
       "      <td>319.5580</td>\n",
       "      <td>True</td>\n",
       "      <td>Income unverified, cross-referenced by phone</td>\n",
       "      <td>Estonian</td>\n",
       "      <td>58</td>\n",
       "      <td>Women</td>\n",
       "      <td>EE</td>\n",
       "      <td>319.5582</td>\n",
       "      <td>...</td>\n",
       "      <td>NaN</td>\n",
       "      <td>203.1909</td>\n",
       "      <td>59.7626</td>\n",
       "      <td>116.35</td>\n",
       "      <td>414.07</td>\n",
       "      <td>0</td>\n",
       "      <td>0.0000</td>\n",
       "      <td>0.0000</td>\n",
       "      <td>0</td>\n",
       "      <td>1</td>\n",
       "    </tr>\n",
       "    <tr>\n",
       "      <th>3</th>\n",
       "      <td>0</td>\n",
       "      <td>0</td>\n",
       "      <td>57.5205</td>\n",
       "      <td>True</td>\n",
       "      <td>Income unverified, cross-referenced by phone</td>\n",
       "      <td>Estonian</td>\n",
       "      <td>23</td>\n",
       "      <td>Women</td>\n",
       "      <td>EE</td>\n",
       "      <td>127.8233</td>\n",
       "      <td>...</td>\n",
       "      <td>NaN</td>\n",
       "      <td>57.5205</td>\n",
       "      <td>18.7323</td>\n",
       "      <td>0.00</td>\n",
       "      <td>0.00</td>\n",
       "      <td>1</td>\n",
       "      <td>134.2144</td>\n",
       "      <td>0.0000</td>\n",
       "      <td>0</td>\n",
       "      <td>0</td>\n",
       "    </tr>\n",
       "    <tr>\n",
       "      <th>4</th>\n",
       "      <td>0</td>\n",
       "      <td>0</td>\n",
       "      <td>319.5582</td>\n",
       "      <td>True</td>\n",
       "      <td>Income unverified, cross-referenced by phone</td>\n",
       "      <td>Estonian</td>\n",
       "      <td>25</td>\n",
       "      <td>Women</td>\n",
       "      <td>EE</td>\n",
       "      <td>319.5582</td>\n",
       "      <td>...</td>\n",
       "      <td>NaN</td>\n",
       "      <td>319.5436</td>\n",
       "      <td>220.4200</td>\n",
       "      <td>0.00</td>\n",
       "      <td>0.00</td>\n",
       "      <td>1</td>\n",
       "      <td>146.9966</td>\n",
       "      <td>0.0000</td>\n",
       "      <td>0</td>\n",
       "      <td>1</td>\n",
       "    </tr>\n",
       "  </tbody>\n",
       "</table>\n",
       "<p>5 rows × 42 columns</p>\n",
       "</div>"
      ],
      "text/plain": [
       "   BidsPortfolioManager  BidsApi  BidsManual  NewCreditCustomer  \\\n",
       "0                     0        0    115.0410               True   \n",
       "1                     0        0    140.6057              False   \n",
       "2                     0        0    319.5580               True   \n",
       "3                     0        0     57.5205               True   \n",
       "4                     0        0    319.5582               True   \n",
       "\n",
       "                               VerificationType LanguageCode  Age Gender  \\\n",
       "0  Income unverified, cross-referenced by phone     Estonian   61  Women   \n",
       "1  Income unverified, cross-referenced by phone     Estonian   48  Women   \n",
       "2  Income unverified, cross-referenced by phone     Estonian   58  Women   \n",
       "3  Income unverified, cross-referenced by phone     Estonian   23  Women   \n",
       "4  Income unverified, cross-referenced by phone     Estonian   25  Women   \n",
       "\n",
       "  Country  AppliedAmount  ...  CreditScoreEsMicroL  PrincipalPaymentsMade  \\\n",
       "0      EE       319.5582  ...                  NaN               115.0408   \n",
       "1      EE       191.7349  ...                  NaN               140.6057   \n",
       "2      EE       319.5582  ...                  NaN               203.1909   \n",
       "3      EE       127.8233  ...                  NaN                57.5205   \n",
       "4      EE       319.5582  ...                  NaN               319.5436   \n",
       "\n",
       "   InterestAndPenaltyPaymentsMade  PrincipalBalance InterestAndPenaltyBalance  \\\n",
       "0                         20.4222              0.00                      0.00   \n",
       "1                          2.0227              0.00                      0.00   \n",
       "2                         59.7626            116.35                    414.07   \n",
       "3                         18.7323              0.00                      0.00   \n",
       "4                        220.4200              0.00                      0.00   \n",
       "\n",
       "  NoOfPreviousLoansBeforeLoan AmountOfPreviousLoansBeforeLoan  \\\n",
       "0                           1                         83.0852   \n",
       "1                           2                        255.6467   \n",
       "2                           0                          0.0000   \n",
       "3                           1                        134.2144   \n",
       "4                           1                        146.9966   \n",
       "\n",
       "  PreviousRepaymentsBeforeLoan PreviousEarlyRepaymentsCountBeforeLoan  \\\n",
       "0                       0.0000                                      0   \n",
       "1                     258.6256                                      0   \n",
       "2                       0.0000                                      0   \n",
       "3                       0.0000                                      0   \n",
       "4                       0.0000                                      0   \n",
       "\n",
       "  target_var  \n",
       "0          0  \n",
       "1          0  \n",
       "2          1  \n",
       "3          0  \n",
       "4          1  \n",
       "\n",
       "[5 rows x 42 columns]"
      ]
     },
     "execution_count": 74,
     "metadata": {},
     "output_type": "execute_result"
    }
   ],
   "source": [
    "df.head()"
   ]
  },
  {
   "cell_type": "code",
   "execution_count": 75,
   "id": "6ea90c51",
   "metadata": {},
   "outputs": [
    {
     "name": "stdout",
     "output_type": "stream",
     "text": [
      "<class 'pandas.core.frame.DataFrame'>\n",
      "RangeIndex: 134529 entries, 0 to 134528\n",
      "Data columns (total 42 columns):\n",
      " #   Column                                  Non-Null Count   Dtype  \n",
      "---  ------                                  --------------   -----  \n",
      " 0   BidsPortfolioManager                    134529 non-null  int64  \n",
      " 1   BidsApi                                 134529 non-null  int64  \n",
      " 2   BidsManual                              134529 non-null  float64\n",
      " 3   NewCreditCustomer                       134529 non-null  bool   \n",
      " 4   VerificationType                        134484 non-null  object \n",
      " 5   LanguageCode                            134529 non-null  object \n",
      " 6   Age                                     134529 non-null  int64  \n",
      " 7   Gender                                  134484 non-null  object \n",
      " 8   Country                                 134529 non-null  object \n",
      " 9   AppliedAmount                           134529 non-null  float64\n",
      " 10  Amount                                  134529 non-null  float64\n",
      " 11  Interest                                134529 non-null  float64\n",
      " 12  LoanDuration                            134529 non-null  int64  \n",
      " 13  MonthlyPayment                          127844 non-null  float64\n",
      " 14  County                                  97689 non-null   object \n",
      " 15  City                                    124735 non-null  object \n",
      " 16  UseOfLoan                               134476 non-null  object \n",
      " 17  Education                               134476 non-null  object \n",
      " 18  MaritalStatus                           134476 non-null  object \n",
      " 19  EmploymentStatus                        132500 non-null  object \n",
      " 20  EmploymentDurationCurrentEmployer       133653 non-null  object \n",
      " 21  OccupationArea                          134432 non-null  object \n",
      " 22  HomeOwnershipType                       132877 non-null  object \n",
      " 23  IncomeTotal                             134529 non-null  float64\n",
      " 24  ExistingLiabilities                     134529 non-null  int64  \n",
      " 25  LiabilitiesTotal                        134529 non-null  float64\n",
      " 26  RefinanceLiabilities                    134529 non-null  int64  \n",
      " 27  DebtToIncome                            134484 non-null  float64\n",
      " 28  FreeCash                                134484 non-null  float64\n",
      " 29  MonthlyPaymentDay                       134529 non-null  int64  \n",
      " 30  Rating                                  131799 non-null  object \n",
      " 31  Restructured                            134529 non-null  bool   \n",
      " 32  CreditScoreEsMicroL                     104955 non-null  object \n",
      " 33  PrincipalPaymentsMade                   134529 non-null  float64\n",
      " 34  InterestAndPenaltyPaymentsMade          134529 non-null  float64\n",
      " 35  PrincipalBalance                        134529 non-null  float64\n",
      " 36  InterestAndPenaltyBalance               134529 non-null  float64\n",
      " 37  NoOfPreviousLoansBeforeLoan             134529 non-null  int64  \n",
      " 38  AmountOfPreviousLoansBeforeLoan         134529 non-null  float64\n",
      " 39  PreviousRepaymentsBeforeLoan            91368 non-null   float64\n",
      " 40  PreviousEarlyRepaymentsCountBeforeLoan  134529 non-null  int64  \n",
      " 41  target_var                              134529 non-null  int64  \n",
      "dtypes: bool(2), float64(15), int64(10), object(15)\n",
      "memory usage: 41.3+ MB\n"
     ]
    }
   ],
   "source": [
    "df.info()"
   ]
  },
  {
   "cell_type": "code",
   "execution_count": 81,
   "id": "13f851f0",
   "metadata": {},
   "outputs": [
    {
     "data": {
      "text/html": [
       "<div>\n",
       "<style scoped>\n",
       "    .dataframe tbody tr th:only-of-type {\n",
       "        vertical-align: middle;\n",
       "    }\n",
       "\n",
       "    .dataframe tbody tr th {\n",
       "        vertical-align: top;\n",
       "    }\n",
       "\n",
       "    .dataframe thead th {\n",
       "        text-align: right;\n",
       "    }\n",
       "</style>\n",
       "<table border=\"1\" class=\"dataframe\">\n",
       "  <thead>\n",
       "    <tr style=\"text-align: right;\">\n",
       "      <th></th>\n",
       "      <th>count</th>\n",
       "      <th>mean</th>\n",
       "      <th>std</th>\n",
       "      <th>min</th>\n",
       "      <th>25%</th>\n",
       "      <th>50%</th>\n",
       "      <th>75%</th>\n",
       "      <th>max</th>\n",
       "    </tr>\n",
       "  </thead>\n",
       "  <tbody>\n",
       "    <tr>\n",
       "      <th>BidsPortfolioManager</th>\n",
       "      <td>134529.0</td>\n",
       "      <td>966.452876</td>\n",
       "      <td>1355.686016</td>\n",
       "      <td>0.0000</td>\n",
       "      <td>155.00</td>\n",
       "      <td>465.0000</td>\n",
       "      <td>1218.0000</td>\n",
       "      <td>10625.00</td>\n",
       "    </tr>\n",
       "    <tr>\n",
       "      <th>BidsApi</th>\n",
       "      <td>134529.0</td>\n",
       "      <td>29.111664</td>\n",
       "      <td>150.159148</td>\n",
       "      <td>0.0000</td>\n",
       "      <td>0.00</td>\n",
       "      <td>0.0000</td>\n",
       "      <td>5.0000</td>\n",
       "      <td>7570.00</td>\n",
       "    </tr>\n",
       "    <tr>\n",
       "      <th>BidsManual</th>\n",
       "      <td>134529.0</td>\n",
       "      <td>559.332590</td>\n",
       "      <td>750.360512</td>\n",
       "      <td>0.0000</td>\n",
       "      <td>96.00</td>\n",
       "      <td>317.0000</td>\n",
       "      <td>729.0000</td>\n",
       "      <td>10630.00</td>\n",
       "    </tr>\n",
       "    <tr>\n",
       "      <th>Age</th>\n",
       "      <td>134529.0</td>\n",
       "      <td>40.819295</td>\n",
       "      <td>12.348693</td>\n",
       "      <td>0.0000</td>\n",
       "      <td>31.00</td>\n",
       "      <td>40.0000</td>\n",
       "      <td>50.0000</td>\n",
       "      <td>77.00</td>\n",
       "    </tr>\n",
       "    <tr>\n",
       "      <th>AppliedAmount</th>\n",
       "      <td>134529.0</td>\n",
       "      <td>2727.947540</td>\n",
       "      <td>2374.439168</td>\n",
       "      <td>31.9558</td>\n",
       "      <td>800.00</td>\n",
       "      <td>2125.0000</td>\n",
       "      <td>4145.0000</td>\n",
       "      <td>10632.00</td>\n",
       "    </tr>\n",
       "    <tr>\n",
       "      <th>Amount</th>\n",
       "      <td>134529.0</td>\n",
       "      <td>2543.872472</td>\n",
       "      <td>2170.128183</td>\n",
       "      <td>6.3900</td>\n",
       "      <td>744.00</td>\n",
       "      <td>2125.0000</td>\n",
       "      <td>3600.0000</td>\n",
       "      <td>10632.00</td>\n",
       "    </tr>\n",
       "    <tr>\n",
       "      <th>Interest</th>\n",
       "      <td>134529.0</td>\n",
       "      <td>35.889583</td>\n",
       "      <td>26.288644</td>\n",
       "      <td>3.0000</td>\n",
       "      <td>20.00</td>\n",
       "      <td>30.9300</td>\n",
       "      <td>40.4000</td>\n",
       "      <td>264.31</td>\n",
       "    </tr>\n",
       "    <tr>\n",
       "      <th>LoanDuration</th>\n",
       "      <td>134529.0</td>\n",
       "      <td>46.151573</td>\n",
       "      <td>15.202688</td>\n",
       "      <td>1.0000</td>\n",
       "      <td>36.00</td>\n",
       "      <td>48.0000</td>\n",
       "      <td>60.0000</td>\n",
       "      <td>60.00</td>\n",
       "    </tr>\n",
       "    <tr>\n",
       "      <th>MonthlyPayment</th>\n",
       "      <td>127844.0</td>\n",
       "      <td>119.083443</td>\n",
       "      <td>114.737919</td>\n",
       "      <td>0.0000</td>\n",
       "      <td>34.99</td>\n",
       "      <td>97.3800</td>\n",
       "      <td>157.5125</td>\n",
       "      <td>2368.54</td>\n",
       "    </tr>\n",
       "    <tr>\n",
       "      <th>IncomeTotal</th>\n",
       "      <td>134529.0</td>\n",
       "      <td>1724.150015</td>\n",
       "      <td>4970.165757</td>\n",
       "      <td>0.0000</td>\n",
       "      <td>857.00</td>\n",
       "      <td>1250.0000</td>\n",
       "      <td>1900.0000</td>\n",
       "      <td>1012019.00</td>\n",
       "    </tr>\n",
       "    <tr>\n",
       "      <th>ExistingLiabilities</th>\n",
       "      <td>134529.0</td>\n",
       "      <td>3.181797</td>\n",
       "      <td>3.424242</td>\n",
       "      <td>0.0000</td>\n",
       "      <td>1.00</td>\n",
       "      <td>2.0000</td>\n",
       "      <td>5.0000</td>\n",
       "      <td>40.00</td>\n",
       "    </tr>\n",
       "    <tr>\n",
       "      <th>LiabilitiesTotal</th>\n",
       "      <td>134529.0</td>\n",
       "      <td>562.027010</td>\n",
       "      <td>33831.634630</td>\n",
       "      <td>0.0000</td>\n",
       "      <td>73.54</td>\n",
       "      <td>316.3800</td>\n",
       "      <td>620.5800</td>\n",
       "      <td>12400000.00</td>\n",
       "    </tr>\n",
       "    <tr>\n",
       "      <th>RefinanceLiabilities</th>\n",
       "      <td>134529.0</td>\n",
       "      <td>0.187313</td>\n",
       "      <td>0.896455</td>\n",
       "      <td>0.0000</td>\n",
       "      <td>0.00</td>\n",
       "      <td>0.0000</td>\n",
       "      <td>0.0000</td>\n",
       "      <td>23.00</td>\n",
       "    </tr>\n",
       "    <tr>\n",
       "      <th>DebtToIncome</th>\n",
       "      <td>134484.0</td>\n",
       "      <td>7.769024</td>\n",
       "      <td>16.259688</td>\n",
       "      <td>0.0000</td>\n",
       "      <td>0.00</td>\n",
       "      <td>0.0000</td>\n",
       "      <td>3.0100</td>\n",
       "      <td>198.02</td>\n",
       "    </tr>\n",
       "    <tr>\n",
       "      <th>FreeCash</th>\n",
       "      <td>134484.0</td>\n",
       "      <td>122.239119</td>\n",
       "      <td>692.480442</td>\n",
       "      <td>-2332.0000</td>\n",
       "      <td>0.00</td>\n",
       "      <td>0.0000</td>\n",
       "      <td>1.6300</td>\n",
       "      <td>158748.64</td>\n",
       "    </tr>\n",
       "    <tr>\n",
       "      <th>MonthlyPaymentDay</th>\n",
       "      <td>134529.0</td>\n",
       "      <td>11.143188</td>\n",
       "      <td>7.044104</td>\n",
       "      <td>0.0000</td>\n",
       "      <td>5.00</td>\n",
       "      <td>10.0000</td>\n",
       "      <td>15.0000</td>\n",
       "      <td>28.00</td>\n",
       "    </tr>\n",
       "    <tr>\n",
       "      <th>PrincipalPaymentsMade</th>\n",
       "      <td>134529.0</td>\n",
       "      <td>761.476162</td>\n",
       "      <td>1371.557801</td>\n",
       "      <td>0.0000</td>\n",
       "      <td>50.87</td>\n",
       "      <td>208.1000</td>\n",
       "      <td>766.4100</td>\n",
       "      <td>10632.00</td>\n",
       "    </tr>\n",
       "    <tr>\n",
       "      <th>InterestAndPenaltyPaymentsMade</th>\n",
       "      <td>134529.0</td>\n",
       "      <td>488.397102</td>\n",
       "      <td>827.805133</td>\n",
       "      <td>0.0000</td>\n",
       "      <td>44.93</td>\n",
       "      <td>181.2100</td>\n",
       "      <td>568.5300</td>\n",
       "      <td>16873.00</td>\n",
       "    </tr>\n",
       "    <tr>\n",
       "      <th>PrincipalBalance</th>\n",
       "      <td>134529.0</td>\n",
       "      <td>1769.281104</td>\n",
       "      <td>2030.546309</td>\n",
       "      <td>-34.2000</td>\n",
       "      <td>212.82</td>\n",
       "      <td>1061.9900</td>\n",
       "      <td>2636.3300</td>\n",
       "      <td>10632.00</td>\n",
       "    </tr>\n",
       "    <tr>\n",
       "      <th>InterestAndPenaltyBalance</th>\n",
       "      <td>134529.0</td>\n",
       "      <td>701.567107</td>\n",
       "      <td>2514.595572</td>\n",
       "      <td>-2.6600</td>\n",
       "      <td>0.00</td>\n",
       "      <td>0.0000</td>\n",
       "      <td>202.9000</td>\n",
       "      <td>64494.77</td>\n",
       "    </tr>\n",
       "    <tr>\n",
       "      <th>NoOfPreviousLoansBeforeLoan</th>\n",
       "      <td>134529.0</td>\n",
       "      <td>1.487620</td>\n",
       "      <td>2.396148</td>\n",
       "      <td>0.0000</td>\n",
       "      <td>0.00</td>\n",
       "      <td>1.0000</td>\n",
       "      <td>2.0000</td>\n",
       "      <td>25.00</td>\n",
       "    </tr>\n",
       "    <tr>\n",
       "      <th>AmountOfPreviousLoansBeforeLoan</th>\n",
       "      <td>134529.0</td>\n",
       "      <td>2868.652401</td>\n",
       "      <td>4507.046575</td>\n",
       "      <td>0.0000</td>\n",
       "      <td>0.00</td>\n",
       "      <td>396.3541</td>\n",
       "      <td>4250.0000</td>\n",
       "      <td>53762.00</td>\n",
       "    </tr>\n",
       "    <tr>\n",
       "      <th>PreviousRepaymentsBeforeLoan</th>\n",
       "      <td>91368.0</td>\n",
       "      <td>928.395548</td>\n",
       "      <td>2042.348751</td>\n",
       "      <td>0.0000</td>\n",
       "      <td>0.00</td>\n",
       "      <td>197.9800</td>\n",
       "      <td>780.9500</td>\n",
       "      <td>34077.42</td>\n",
       "    </tr>\n",
       "    <tr>\n",
       "      <th>PreviousEarlyRepaymentsCountBeforeLoan</th>\n",
       "      <td>134529.0</td>\n",
       "      <td>0.069903</td>\n",
       "      <td>0.359461</td>\n",
       "      <td>0.0000</td>\n",
       "      <td>0.00</td>\n",
       "      <td>0.0000</td>\n",
       "      <td>0.0000</td>\n",
       "      <td>11.00</td>\n",
       "    </tr>\n",
       "    <tr>\n",
       "      <th>target_var</th>\n",
       "      <td>134529.0</td>\n",
       "      <td>0.319002</td>\n",
       "      <td>0.466091</td>\n",
       "      <td>0.0000</td>\n",
       "      <td>0.00</td>\n",
       "      <td>0.0000</td>\n",
       "      <td>1.0000</td>\n",
       "      <td>1.00</td>\n",
       "    </tr>\n",
       "  </tbody>\n",
       "</table>\n",
       "</div>"
      ],
      "text/plain": [
       "                                           count         mean           std  \\\n",
       "BidsPortfolioManager                    134529.0   966.452876   1355.686016   \n",
       "BidsApi                                 134529.0    29.111664    150.159148   \n",
       "BidsManual                              134529.0   559.332590    750.360512   \n",
       "Age                                     134529.0    40.819295     12.348693   \n",
       "AppliedAmount                           134529.0  2727.947540   2374.439168   \n",
       "Amount                                  134529.0  2543.872472   2170.128183   \n",
       "Interest                                134529.0    35.889583     26.288644   \n",
       "LoanDuration                            134529.0    46.151573     15.202688   \n",
       "MonthlyPayment                          127844.0   119.083443    114.737919   \n",
       "IncomeTotal                             134529.0  1724.150015   4970.165757   \n",
       "ExistingLiabilities                     134529.0     3.181797      3.424242   \n",
       "LiabilitiesTotal                        134529.0   562.027010  33831.634630   \n",
       "RefinanceLiabilities                    134529.0     0.187313      0.896455   \n",
       "DebtToIncome                            134484.0     7.769024     16.259688   \n",
       "FreeCash                                134484.0   122.239119    692.480442   \n",
       "MonthlyPaymentDay                       134529.0    11.143188      7.044104   \n",
       "PrincipalPaymentsMade                   134529.0   761.476162   1371.557801   \n",
       "InterestAndPenaltyPaymentsMade          134529.0   488.397102    827.805133   \n",
       "PrincipalBalance                        134529.0  1769.281104   2030.546309   \n",
       "InterestAndPenaltyBalance               134529.0   701.567107   2514.595572   \n",
       "NoOfPreviousLoansBeforeLoan             134529.0     1.487620      2.396148   \n",
       "AmountOfPreviousLoansBeforeLoan         134529.0  2868.652401   4507.046575   \n",
       "PreviousRepaymentsBeforeLoan             91368.0   928.395548   2042.348751   \n",
       "PreviousEarlyRepaymentsCountBeforeLoan  134529.0     0.069903      0.359461   \n",
       "target_var                              134529.0     0.319002      0.466091   \n",
       "\n",
       "                                              min     25%        50%  \\\n",
       "BidsPortfolioManager                       0.0000  155.00   465.0000   \n",
       "BidsApi                                    0.0000    0.00     0.0000   \n",
       "BidsManual                                 0.0000   96.00   317.0000   \n",
       "Age                                        0.0000   31.00    40.0000   \n",
       "AppliedAmount                             31.9558  800.00  2125.0000   \n",
       "Amount                                     6.3900  744.00  2125.0000   \n",
       "Interest                                   3.0000   20.00    30.9300   \n",
       "LoanDuration                               1.0000   36.00    48.0000   \n",
       "MonthlyPayment                             0.0000   34.99    97.3800   \n",
       "IncomeTotal                                0.0000  857.00  1250.0000   \n",
       "ExistingLiabilities                        0.0000    1.00     2.0000   \n",
       "LiabilitiesTotal                           0.0000   73.54   316.3800   \n",
       "RefinanceLiabilities                       0.0000    0.00     0.0000   \n",
       "DebtToIncome                               0.0000    0.00     0.0000   \n",
       "FreeCash                               -2332.0000    0.00     0.0000   \n",
       "MonthlyPaymentDay                          0.0000    5.00    10.0000   \n",
       "PrincipalPaymentsMade                      0.0000   50.87   208.1000   \n",
       "InterestAndPenaltyPaymentsMade             0.0000   44.93   181.2100   \n",
       "PrincipalBalance                         -34.2000  212.82  1061.9900   \n",
       "InterestAndPenaltyBalance                 -2.6600    0.00     0.0000   \n",
       "NoOfPreviousLoansBeforeLoan                0.0000    0.00     1.0000   \n",
       "AmountOfPreviousLoansBeforeLoan            0.0000    0.00   396.3541   \n",
       "PreviousRepaymentsBeforeLoan               0.0000    0.00   197.9800   \n",
       "PreviousEarlyRepaymentsCountBeforeLoan     0.0000    0.00     0.0000   \n",
       "target_var                                 0.0000    0.00     0.0000   \n",
       "\n",
       "                                              75%          max  \n",
       "BidsPortfolioManager                    1218.0000     10625.00  \n",
       "BidsApi                                    5.0000      7570.00  \n",
       "BidsManual                               729.0000     10630.00  \n",
       "Age                                       50.0000        77.00  \n",
       "AppliedAmount                           4145.0000     10632.00  \n",
       "Amount                                  3600.0000     10632.00  \n",
       "Interest                                  40.4000       264.31  \n",
       "LoanDuration                              60.0000        60.00  \n",
       "MonthlyPayment                           157.5125      2368.54  \n",
       "IncomeTotal                             1900.0000   1012019.00  \n",
       "ExistingLiabilities                        5.0000        40.00  \n",
       "LiabilitiesTotal                         620.5800  12400000.00  \n",
       "RefinanceLiabilities                       0.0000        23.00  \n",
       "DebtToIncome                               3.0100       198.02  \n",
       "FreeCash                                   1.6300    158748.64  \n",
       "MonthlyPaymentDay                         15.0000        28.00  \n",
       "PrincipalPaymentsMade                    766.4100     10632.00  \n",
       "InterestAndPenaltyPaymentsMade           568.5300     16873.00  \n",
       "PrincipalBalance                        2636.3300     10632.00  \n",
       "InterestAndPenaltyBalance                202.9000     64494.77  \n",
       "NoOfPreviousLoansBeforeLoan                2.0000        25.00  \n",
       "AmountOfPreviousLoansBeforeLoan         4250.0000     53762.00  \n",
       "PreviousRepaymentsBeforeLoan             780.9500     34077.42  \n",
       "PreviousEarlyRepaymentsCountBeforeLoan     0.0000        11.00  \n",
       "target_var                                 1.0000         1.00  "
      ]
     },
     "execution_count": 81,
     "metadata": {},
     "output_type": "execute_result"
    }
   ],
   "source": [
    "df.describe().transpose()"
   ]
  },
  {
   "cell_type": "code",
   "execution_count": 82,
   "id": "1eb021e5",
   "metadata": {},
   "outputs": [
    {
     "data": {
      "text/plain": [
       "0    91614\n",
       "1    42915\n",
       "Name: target_var, dtype: int64"
      ]
     },
     "execution_count": 82,
     "metadata": {},
     "output_type": "execute_result"
    }
   ],
   "source": [
    "df['target_var'].value_counts()"
   ]
  },
  {
   "cell_type": "code",
   "execution_count": 83,
   "id": "dceb9212",
   "metadata": {},
   "outputs": [
    {
     "data": {
      "text/plain": [
       "<AxesSubplot:xlabel='target_var', ylabel='count'>"
      ]
     },
     "execution_count": 83,
     "metadata": {},
     "output_type": "execute_result"
    },
    {
     "data": {
      "image/png": "[encoded data removed]",
      "text/plain": [
       "<Figure size 432x288 with 1 Axes>"
      ]
     },
     "metadata": {
      "needs_background": "light"
     },
     "output_type": "display_data"
    }
   ],
   "source": [
    "sns.countplot(data=df,x='target_var')"
   ]
  },
  {
   "cell_type": "code",
   "execution_count": 84,
   "id": "5f15b69c",
   "metadata": {
    "scrolled": true
   },
   "outputs": [
    {
     "data": {
      "text/plain": [
       "NoOfPreviousLoansBeforeLoan              -0.145937\n",
       "AmountOfPreviousLoansBeforeLoan          -0.145492\n",
       "PrincipalPaymentsMade                    -0.103564\n",
       "PreviousRepaymentsBeforeLoan             -0.090850\n",
       "Age                                      -0.037703\n",
       "InterestAndPenaltyPaymentsMade           -0.009271\n",
       "LiabilitiesTotal                          0.000893\n",
       "PreviousEarlyRepaymentsCountBeforeLoan    0.004930\n",
       "Amount                                    0.007986\n",
       "IncomeTotal                               0.008247\n",
       "MonthlyPaymentDay                         0.009609\n",
       "LoanDuration                              0.016449\n",
       "BidsApi                                   0.023423\n",
       "BidsManual                                0.023606\n",
       "AppliedAmount                             0.062366\n",
       "ExistingLiabilities                       0.062509\n",
       "PrincipalBalance                          0.069148\n",
       "FreeCash                                  0.094331\n",
       "Restructured                              0.101866\n",
       "MonthlyPayment                            0.110284\n",
       "RefinanceLiabilities                      0.114170\n",
       "NewCreditCustomer                         0.115041\n",
       "BidsPortfolioManager                      0.214164\n",
       "Interest                                  0.233415\n",
       "DebtToIncome                              0.237423\n",
       "InterestAndPenaltyBalance                 0.398319\n",
       "target_var                                1.000000\n",
       "Name: target_var, dtype: float64"
      ]
     },
     "execution_count": 84,
     "metadata": {},
     "output_type": "execute_result"
    }
   ],
   "source": [
    "df.corr()['target_var'].sort_values()"
   ]
  },
  {
   "cell_type": "code",
   "execution_count": 85,
   "id": "8229be0d",
   "metadata": {},
   "outputs": [
    {
     "data": {
      "text/plain": [
       "<AxesSubplot:xlabel='Age', ylabel='Count'>"
      ]
     },
     "execution_count": 85,
     "metadata": {},
     "output_type": "execute_result"
    },
    {
     "data": {
      "image/png": "[encoded data removed]",
      "text/plain": [
       "<Figure size 432x288 with 1 Axes>"
      ]
     },
     "metadata": {
      "needs_background": "light"
     },
     "output_type": "display_data"
    }
   ],
   "source": [
    "sns.histplot(data=df,x='Age')"
   ]
  },
  {
   "cell_type": "code",
   "execution_count": 87,
   "id": "6b68ba0a",
   "metadata": {},
   "outputs": [
    {
     "data": {
      "text/plain": [
       "<AxesSubplot:xlabel='Interest', ylabel='Count'>"
      ]
     },
     "execution_count": 87,
     "metadata": {},
     "output_type": "execute_result"
    },
    {
     "data": {
      "image/png": "[encoded data removed]",
      "text/plain": [
       "<Figure size 432x288 with 1 Axes>"
      ]
     },
     "metadata": {
      "needs_background": "light"
     },
     "output_type": "display_data"
    }
   ],
   "source": [
    "sns.histplot(data=df,x='Interest')"
   ]
  },
  {
   "cell_type": "code",
   "execution_count": 88,
   "id": "79567692",
   "metadata": {},
   "outputs": [
    {
     "data": {
      "text/plain": [
       "<AxesSubplot:xlabel='target_var', ylabel='InterestAndPenaltyBalance'>"
      ]
     },
     "execution_count": 88,
     "metadata": {},
     "output_type": "execute_result"
    },
    {
     "data": {
      "image/png": "[encoded data removed]",
      "text/plain": [
       "<Figure size 432x288 with 1 Axes>"
      ]
     },
     "metadata": {
      "needs_background": "light"
     },
     "output_type": "display_data"
    }
   ],
   "source": [
    "sns.barplot(x='target_var',y='InterestAndPenaltyBalance',data=df)"
   ]
  },
  {
   "cell_type": "code",
   "execution_count": 89,
   "id": "e383173c",
   "metadata": {},
   "outputs": [
    {
     "data": {
      "text/plain": [
       "<AxesSubplot:xlabel='target_var', ylabel='DebtToIncome'>"
      ]
     },
     "execution_count": 89,
     "metadata": {},
     "output_type": "execute_result"
    },
    {
     "data": {
      "image/png": "[encoded data removed]",
      "text/plain": [
       "<Figure size 432x288 with 1 Axes>"
      ]
     },
     "metadata": {
      "needs_background": "light"
     },
     "output_type": "display_data"
    }
   ],
   "source": [
    "sns.barplot(x='target_var',y='DebtToIncome',data=df)"
   ]
  },
  {
   "cell_type": "code",
   "execution_count": 90,
   "id": "3cfe5177",
   "metadata": {},
   "outputs": [
    {
     "data": {
      "text/plain": [
       "<AxesSubplot:xlabel='target_var', ylabel='Interest'>"
      ]
     },
     "execution_count": 90,
     "metadata": {},
     "output_type": "execute_result"
    },
    {
     "data": {
      "image/png": "[encoded data removed]",
      "text/plain": [
       "<Figure size 432x288 with 1 Axes>"
      ]
     },
     "metadata": {
      "needs_background": "light"
     },
     "output_type": "display_data"
    }
   ],
   "source": [
    "sns.barplot(x='target_var',y='Interest',data=df)"
   ]
  },
  {
   "cell_type": "code",
   "execution_count": 91,
   "id": "e2cb6a3c",
   "metadata": {},
   "outputs": [
    {
     "data": {
      "text/plain": [
       "<AxesSubplot:xlabel='target_var', ylabel='BidsPortfolioManager'>"
      ]
     },
     "execution_count": 91,
     "metadata": {},
     "output_type": "execute_result"
    },
    {
     "data": {
      "image/png": "[encoded data removed]",
      "text/plain": [
       "<Figure size 432x288 with 1 Axes>"
      ]
     },
     "metadata": {
      "needs_background": "light"
     },
     "output_type": "display_data"
    }
   ],
   "source": [
    "sns.barplot(x='target_var',y='BidsPortfolioManager',data=df)"
   ]
  },
  {
   "cell_type": "code",
   "execution_count": 92,
   "id": "dc32364e",
   "metadata": {},
   "outputs": [
    {
     "data": {
      "text/plain": [
       "<AxesSubplot:xlabel='target_var', ylabel='IncomeTotal'>"
      ]
     },
     "execution_count": 92,
     "metadata": {},
     "output_type": "execute_result"
    },
    {
     "data": {
      "image/png": "[encoded data removed]",
      "text/plain": [
       "<Figure size 432x288 with 1 Axes>"
      ]
     },
     "metadata": {
      "needs_background": "light"
     },
     "output_type": "display_data"
    }
   ],
   "source": [
    "sns.barplot(x='target_var',y='IncomeTotal',data=df)"
   ]
  },
  {
   "cell_type": "code",
   "execution_count": 93,
   "id": "0ae10f70",
   "metadata": {},
   "outputs": [
    {
     "data": {
      "text/plain": [
       "<AxesSubplot:>"
      ]
     },
     "execution_count": 93,
     "metadata": {},
     "output_type": "execute_result"
    },
    {
     "data": {
      "image/png": "[encoded data removed]",
      "text/plain": [
       "<Figure size 864x576 with 2 Axes>"
      ]
     },
     "metadata": {
      "needs_background": "light"
     },
     "output_type": "display_data"
    }
   ],
   "source": [
    "plt.figure(figsize=(12,8))\n",
    "sns.heatmap(df.corr())"
   ]
  },
  {
   "cell_type": "code",
   "execution_count": 95,
   "id": "79c3a60c",
   "metadata": {},
   "outputs": [],
   "source": [
    "# save the final data\n",
    "df.to_csv('Bondora_EDA.csv',index=False)"
   ]
  },
  {
   "cell_type": "code",
   "execution_count": null,
   "id": "94215d14",
   "metadata": {},
   "outputs": [],
   "source": []
  }
 ],
 "metadata": {
  "kernelspec": {
   "display_name": "Python 3 (ipykernel)",
   "language": "python",
   "name": "python3"
  },
  "language_info": {
   "codemirror_mode": {
    "name": "ipython",
    "version": 3
   },
   "file_extension": ".py",
   "mimetype": "text/x-python",
   "name": "python",
   "nbconvert_exporter": "python",
   "pygments_lexer": "ipython3",
   "version": "3.9.12"
  }
 },
 "nbformat": 4,
 "nbformat_minor": 5
}
